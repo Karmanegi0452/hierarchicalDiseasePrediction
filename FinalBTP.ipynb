{
  "nbformat": 4,
  "nbformat_minor": 0,
  "metadata": {
    "colab": {
      "provenance": []
    },
    "kernelspec": {
      "name": "python3",
      "display_name": "Python 3"
    },
    "language_info": {
      "name": "python"
    }
  },
  "cells": [
    {
      "cell_type": "markdown",
      "source": [
        "# Data Preprocessing"
      ],
      "metadata": {
        "id": "JFUkBINgvXwL"
      }
    },
    {
      "cell_type": "code",
      "source": [
        "from google.colab import drive\n",
        "drive.mount('/content/drive')"
      ],
      "metadata": {
        "id": "fXJoSO9kVD0v",
        "colab": {
          "base_uri": "https://localhost:8080/"
        },
        "outputId": "912dcfcb-c4dd-4b93-d8a3-4d546239ed74"
      },
      "execution_count": 7,
      "outputs": [
        {
          "output_type": "stream",
          "name": "stdout",
          "text": [
            "Drive already mounted at /content/drive; to attempt to forcibly remount, call drive.mount(\"/content/drive\", force_remount=True).\n"
          ]
        }
      ]
    },
    {
      "cell_type": "code",
      "source": [
        "# Importing the dependencies\n",
        "import pandas as pd\n",
        "import numpy as np\n",
        "from sklearn.ensemble import RandomForestClassifier\n",
        "from sklearn.model_selection import train_test_split\n",
        "from sklearn.metrics import accuracy_score\n",
        "import seaborn as sns\n",
        "from sklearn.preprocessing import LabelEncoder\n",
        "from sklearn.metrics import accuracy_score,confusion_matrix\n",
        "import matplotlib.pyplot as plt\n",
        "%matplotlib inline\n"
      ],
      "metadata": {
        "id": "GYou4azLv9M-"
      },
      "execution_count": 8,
      "outputs": []
    },
    {
      "cell_type": "code",
      "source": [
        "#Reading the data from the drive\n",
        "data = pd.read_csv(\"/content/drive/MyDrive/B.Tech Project/Training.csv\")"
      ],
      "metadata": {
        "id": "Axtrs1QawSw2"
      },
      "execution_count": 9,
      "outputs": []
    },
    {
      "cell_type": "code",
      "source": [
        "#Checking the dataset\n",
        "data.head(5)"
      ],
      "metadata": {
        "id": "p_6J_X5lwsly",
        "colab": {
          "base_uri": "https://localhost:8080/",
          "height": 559
        },
        "outputId": "7c31ecf1-2bba-45a3-e5bb-dd0d6303450b"
      },
      "execution_count": 10,
      "outputs": [
        {
          "output_type": "execute_result",
          "data": {
            "text/plain": [
              "   itching  skin_rash  nodal_skin_eruptions  continuous_sneezing  shivering  \\\n",
              "0        0          0                     0                    0          0   \n",
              "1        0          0                     0                    0          0   \n",
              "2        0          0                     0                    0          0   \n",
              "3        0          0                     0                    0          0   \n",
              "4        0          0                     0                    0          0   \n",
              "\n",
              "   chills  joint_pain  stomach_pain  acidity  ulcers_on_tongue  ...  \\\n",
              "0       0           0             0        0                 0  ...   \n",
              "1       0           0             0        0                 0  ...   \n",
              "2       0           0             0        0                 0  ...   \n",
              "3       0           0             0        0                 0  ...   \n",
              "4       0           0             0        0                 0  ...   \n",
              "\n",
              "   blackheads  scurring  skin_peeling  silver_like_dusting  \\\n",
              "0           0         0             0                    0   \n",
              "1           0         0             0                    0   \n",
              "2           0         0             0                    0   \n",
              "3           0         0             0                    0   \n",
              "4           0         0             0                    0   \n",
              "\n",
              "   small_dents_in_nails  inflammatory_nails  blister  red_sore_around_nose  \\\n",
              "0                     0                   0        0                     0   \n",
              "1                     0                   0        0                     0   \n",
              "2                     0                   0        0                     0   \n",
              "3                     0                   0        0                     0   \n",
              "4                     0                   0        0                     0   \n",
              "\n",
              "   yellow_crust_ooze                                prognosis  \n",
              "0                  0  (vertigo) Paroymsal  Positional Vertigo  \n",
              "1                  0  (vertigo) Paroymsal  Positional Vertigo  \n",
              "2                  0  (vertigo) Paroymsal  Positional Vertigo  \n",
              "3                  0  (vertigo) Paroymsal  Positional Vertigo  \n",
              "4                  0  (vertigo) Paroymsal  Positional Vertigo  \n",
              "\n",
              "[5 rows x 133 columns]"
            ],
            "text/html": [
              "\n",
              "  <div id=\"df-d81ebb3c-9d23-4807-96ae-092582cb3ad0\">\n",
              "    <div class=\"colab-df-container\">\n",
              "      <div>\n",
              "<style scoped>\n",
              "    .dataframe tbody tr th:only-of-type {\n",
              "        vertical-align: middle;\n",
              "    }\n",
              "\n",
              "    .dataframe tbody tr th {\n",
              "        vertical-align: top;\n",
              "    }\n",
              "\n",
              "    .dataframe thead th {\n",
              "        text-align: right;\n",
              "    }\n",
              "</style>\n",
              "<table border=\"1\" class=\"dataframe\">\n",
              "  <thead>\n",
              "    <tr style=\"text-align: right;\">\n",
              "      <th></th>\n",
              "      <th>itching</th>\n",
              "      <th>skin_rash</th>\n",
              "      <th>nodal_skin_eruptions</th>\n",
              "      <th>continuous_sneezing</th>\n",
              "      <th>shivering</th>\n",
              "      <th>chills</th>\n",
              "      <th>joint_pain</th>\n",
              "      <th>stomach_pain</th>\n",
              "      <th>acidity</th>\n",
              "      <th>ulcers_on_tongue</th>\n",
              "      <th>...</th>\n",
              "      <th>blackheads</th>\n",
              "      <th>scurring</th>\n",
              "      <th>skin_peeling</th>\n",
              "      <th>silver_like_dusting</th>\n",
              "      <th>small_dents_in_nails</th>\n",
              "      <th>inflammatory_nails</th>\n",
              "      <th>blister</th>\n",
              "      <th>red_sore_around_nose</th>\n",
              "      <th>yellow_crust_ooze</th>\n",
              "      <th>prognosis</th>\n",
              "    </tr>\n",
              "  </thead>\n",
              "  <tbody>\n",
              "    <tr>\n",
              "      <th>0</th>\n",
              "      <td>0</td>\n",
              "      <td>0</td>\n",
              "      <td>0</td>\n",
              "      <td>0</td>\n",
              "      <td>0</td>\n",
              "      <td>0</td>\n",
              "      <td>0</td>\n",
              "      <td>0</td>\n",
              "      <td>0</td>\n",
              "      <td>0</td>\n",
              "      <td>...</td>\n",
              "      <td>0</td>\n",
              "      <td>0</td>\n",
              "      <td>0</td>\n",
              "      <td>0</td>\n",
              "      <td>0</td>\n",
              "      <td>0</td>\n",
              "      <td>0</td>\n",
              "      <td>0</td>\n",
              "      <td>0</td>\n",
              "      <td>(vertigo) Paroymsal  Positional Vertigo</td>\n",
              "    </tr>\n",
              "    <tr>\n",
              "      <th>1</th>\n",
              "      <td>0</td>\n",
              "      <td>0</td>\n",
              "      <td>0</td>\n",
              "      <td>0</td>\n",
              "      <td>0</td>\n",
              "      <td>0</td>\n",
              "      <td>0</td>\n",
              "      <td>0</td>\n",
              "      <td>0</td>\n",
              "      <td>0</td>\n",
              "      <td>...</td>\n",
              "      <td>0</td>\n",
              "      <td>0</td>\n",
              "      <td>0</td>\n",
              "      <td>0</td>\n",
              "      <td>0</td>\n",
              "      <td>0</td>\n",
              "      <td>0</td>\n",
              "      <td>0</td>\n",
              "      <td>0</td>\n",
              "      <td>(vertigo) Paroymsal  Positional Vertigo</td>\n",
              "    </tr>\n",
              "    <tr>\n",
              "      <th>2</th>\n",
              "      <td>0</td>\n",
              "      <td>0</td>\n",
              "      <td>0</td>\n",
              "      <td>0</td>\n",
              "      <td>0</td>\n",
              "      <td>0</td>\n",
              "      <td>0</td>\n",
              "      <td>0</td>\n",
              "      <td>0</td>\n",
              "      <td>0</td>\n",
              "      <td>...</td>\n",
              "      <td>0</td>\n",
              "      <td>0</td>\n",
              "      <td>0</td>\n",
              "      <td>0</td>\n",
              "      <td>0</td>\n",
              "      <td>0</td>\n",
              "      <td>0</td>\n",
              "      <td>0</td>\n",
              "      <td>0</td>\n",
              "      <td>(vertigo) Paroymsal  Positional Vertigo</td>\n",
              "    </tr>\n",
              "    <tr>\n",
              "      <th>3</th>\n",
              "      <td>0</td>\n",
              "      <td>0</td>\n",
              "      <td>0</td>\n",
              "      <td>0</td>\n",
              "      <td>0</td>\n",
              "      <td>0</td>\n",
              "      <td>0</td>\n",
              "      <td>0</td>\n",
              "      <td>0</td>\n",
              "      <td>0</td>\n",
              "      <td>...</td>\n",
              "      <td>0</td>\n",
              "      <td>0</td>\n",
              "      <td>0</td>\n",
              "      <td>0</td>\n",
              "      <td>0</td>\n",
              "      <td>0</td>\n",
              "      <td>0</td>\n",
              "      <td>0</td>\n",
              "      <td>0</td>\n",
              "      <td>(vertigo) Paroymsal  Positional Vertigo</td>\n",
              "    </tr>\n",
              "    <tr>\n",
              "      <th>4</th>\n",
              "      <td>0</td>\n",
              "      <td>0</td>\n",
              "      <td>0</td>\n",
              "      <td>0</td>\n",
              "      <td>0</td>\n",
              "      <td>0</td>\n",
              "      <td>0</td>\n",
              "      <td>0</td>\n",
              "      <td>0</td>\n",
              "      <td>0</td>\n",
              "      <td>...</td>\n",
              "      <td>0</td>\n",
              "      <td>0</td>\n",
              "      <td>0</td>\n",
              "      <td>0</td>\n",
              "      <td>0</td>\n",
              "      <td>0</td>\n",
              "      <td>0</td>\n",
              "      <td>0</td>\n",
              "      <td>0</td>\n",
              "      <td>(vertigo) Paroymsal  Positional Vertigo</td>\n",
              "    </tr>\n",
              "  </tbody>\n",
              "</table>\n",
              "<p>5 rows × 133 columns</p>\n",
              "</div>\n",
              "      <button class=\"colab-df-convert\" onclick=\"convertToInteractive('df-d81ebb3c-9d23-4807-96ae-092582cb3ad0')\"\n",
              "              title=\"Convert this dataframe to an interactive table.\"\n",
              "              style=\"display:none;\">\n",
              "        \n",
              "  <svg xmlns=\"http://www.w3.org/2000/svg\" height=\"24px\"viewBox=\"0 0 24 24\"\n",
              "       width=\"24px\">\n",
              "    <path d=\"M0 0h24v24H0V0z\" fill=\"none\"/>\n",
              "    <path d=\"M18.56 5.44l.94 2.06.94-2.06 2.06-.94-2.06-.94-.94-2.06-.94 2.06-2.06.94zm-11 1L8.5 8.5l.94-2.06 2.06-.94-2.06-.94L8.5 2.5l-.94 2.06-2.06.94zm10 10l.94 2.06.94-2.06 2.06-.94-2.06-.94-.94-2.06-.94 2.06-2.06.94z\"/><path d=\"M17.41 7.96l-1.37-1.37c-.4-.4-.92-.59-1.43-.59-.52 0-1.04.2-1.43.59L10.3 9.45l-7.72 7.72c-.78.78-.78 2.05 0 2.83L4 21.41c.39.39.9.59 1.41.59.51 0 1.02-.2 1.41-.59l7.78-7.78 2.81-2.81c.8-.78.8-2.07 0-2.86zM5.41 20L4 18.59l7.72-7.72 1.47 1.35L5.41 20z\"/>\n",
              "  </svg>\n",
              "      </button>\n",
              "      \n",
              "  <style>\n",
              "    .colab-df-container {\n",
              "      display:flex;\n",
              "      flex-wrap:wrap;\n",
              "      gap: 12px;\n",
              "    }\n",
              "\n",
              "    .colab-df-convert {\n",
              "      background-color: #E8F0FE;\n",
              "      border: none;\n",
              "      border-radius: 50%;\n",
              "      cursor: pointer;\n",
              "      display: none;\n",
              "      fill: #1967D2;\n",
              "      height: 32px;\n",
              "      padding: 0 0 0 0;\n",
              "      width: 32px;\n",
              "    }\n",
              "\n",
              "    .colab-df-convert:hover {\n",
              "      background-color: #E2EBFA;\n",
              "      box-shadow: 0px 1px 2px rgba(60, 64, 67, 0.3), 0px 1px 3px 1px rgba(60, 64, 67, 0.15);\n",
              "      fill: #174EA6;\n",
              "    }\n",
              "\n",
              "    [theme=dark] .colab-df-convert {\n",
              "      background-color: #3B4455;\n",
              "      fill: #D2E3FC;\n",
              "    }\n",
              "\n",
              "    [theme=dark] .colab-df-convert:hover {\n",
              "      background-color: #434B5C;\n",
              "      box-shadow: 0px 1px 3px 1px rgba(0, 0, 0, 0.15);\n",
              "      filter: drop-shadow(0px 1px 2px rgba(0, 0, 0, 0.3));\n",
              "      fill: #FFFFFF;\n",
              "    }\n",
              "  </style>\n",
              "\n",
              "      <script>\n",
              "        const buttonEl =\n",
              "          document.querySelector('#df-d81ebb3c-9d23-4807-96ae-092582cb3ad0 button.colab-df-convert');\n",
              "        buttonEl.style.display =\n",
              "          google.colab.kernel.accessAllowed ? 'block' : 'none';\n",
              "\n",
              "        async function convertToInteractive(key) {\n",
              "          const element = document.querySelector('#df-d81ebb3c-9d23-4807-96ae-092582cb3ad0');\n",
              "          const dataTable =\n",
              "            await google.colab.kernel.invokeFunction('convertToInteractive',\n",
              "                                                     [key], {});\n",
              "          if (!dataTable) return;\n",
              "\n",
              "          const docLinkHtml = 'Like what you see? Visit the ' +\n",
              "            '<a target=\"_blank\" href=https://colab.research.google.com/notebooks/data_table.ipynb>data table notebook</a>'\n",
              "            + ' to learn more about interactive tables.';\n",
              "          element.innerHTML = '';\n",
              "          dataTable['output_type'] = 'display_data';\n",
              "          await google.colab.output.renderOutput(dataTable, element);\n",
              "          const docLink = document.createElement('div');\n",
              "          docLink.innerHTML = docLinkHtml;\n",
              "          element.appendChild(docLink);\n",
              "        }\n",
              "      </script>\n",
              "    </div>\n",
              "  </div>\n",
              "  "
            ]
          },
          "metadata": {},
          "execution_count": 10
        }
      ]
    },
    {
      "cell_type": "code",
      "source": [
        "#printing the col names\n",
        "for col in data.columns:\n",
        "  print(col)"
      ],
      "metadata": {
        "id": "ZkOkBC_5wwYW",
        "colab": {
          "base_uri": "https://localhost:8080/"
        },
        "outputId": "18e7f0bb-f750-416b-deb2-3251d694fe74"
      },
      "execution_count": 11,
      "outputs": [
        {
          "output_type": "stream",
          "name": "stdout",
          "text": [
            "itching\n",
            "skin_rash\n",
            "nodal_skin_eruptions\n",
            "continuous_sneezing\n",
            "shivering\n",
            "chills\n",
            "joint_pain\n",
            "stomach_pain\n",
            "acidity\n",
            "ulcers_on_tongue\n",
            "muscle_wasting\n",
            "vomiting\n",
            "burning_micturition\n",
            "spotting_ urination\n",
            "fatigue\n",
            "weight_gain\n",
            "anxiety\n",
            "cold_hands_and_feets\n",
            "mood_swings\n",
            "weight_loss\n",
            "restlessness\n",
            "lethargy\n",
            "patches_in_throat\n",
            "irregular_sugar_level\n",
            "cough\n",
            "high_fever\n",
            "sunken_eyes\n",
            "breathlessness\n",
            "sweating\n",
            "dehydration\n",
            "indigestion\n",
            "headache\n",
            "yellowish_skin\n",
            "dark_urine\n",
            "nausea\n",
            "loss_of_appetite\n",
            "pain_behind_the_eyes\n",
            "back_pain\n",
            "constipation\n",
            "abdominal_pain\n",
            "diarrhoea\n",
            "mild_fever\n",
            "yellow_urine\n",
            "yellowing_of_eyes\n",
            "acute_liver_failure\n",
            "fluid_overload\n",
            "swelling_of_stomach\n",
            "swelled_lymph_nodes\n",
            "malaise\n",
            "blurred_and_distorted_vision\n",
            "phlegm\n",
            "throat_irritation\n",
            "redness_of_eyes\n",
            "sinus_pressure\n",
            "runny_nose\n",
            "congestion\n",
            "chest_pain\n",
            "weakness_in_limbs\n",
            "fast_heart_rate\n",
            "pain_during_bowel_movements\n",
            "pain_in_anal_region\n",
            "bloody_stool\n",
            "irritation_in_anus\n",
            "neck_pain\n",
            "dizziness\n",
            "cramps\n",
            "bruising\n",
            "obesity\n",
            "swollen_legs\n",
            "swollen_blood_vessels\n",
            "puffy_face_and_eyes\n",
            "enlarged_thyroid\n",
            "brittle_nails\n",
            "swollen_extremeties\n",
            "excessive_hunger\n",
            "extra_marital_contacts\n",
            "drying_and_tingling_lips\n",
            "slurred_speech\n",
            "knee_pain\n",
            "hip_joint_pain\n",
            "muscle_weakness\n",
            "stiff_neck\n",
            "swelling_joints\n",
            "movement_stiffness\n",
            "spinning_movements\n",
            "loss_of_balance\n",
            "unsteadiness\n",
            "weakness_of_one_body_side\n",
            "loss_of_smell\n",
            "bladder_discomfort\n",
            "foul_smell_of urine\n",
            "continuous_feel_of_urine\n",
            "passage_of_gases\n",
            "internal_itching\n",
            "toxic_look_(typhos)\n",
            "depression\n",
            "irritability\n",
            "muscle_pain\n",
            "altered_sensorium\n",
            "red_spots_over_body\n",
            "belly_pain\n",
            "abnormal_menstruation\n",
            "dischromic _patches\n",
            "watering_from_eyes\n",
            "increased_appetite\n",
            "polyuria\n",
            "family_history\n",
            "mucoid_sputum\n",
            "rusty_sputum\n",
            "lack_of_concentration\n",
            "visual_disturbances\n",
            "receiving_blood_transfusion\n",
            "receiving_unsterile_injections\n",
            "coma\n",
            "stomach_bleeding\n",
            "distention_of_abdomen\n",
            "history_of_alcohol_consumption\n",
            "fluid_overload.1\n",
            "blood_in_sputum\n",
            "prominent_veins_on_calf\n",
            "palpitations\n",
            "painful_walking\n",
            "pus_filled_pimples\n",
            "blackheads\n",
            "scurring\n",
            "skin_peeling\n",
            "silver_like_dusting\n",
            "small_dents_in_nails\n",
            "inflammatory_nails\n",
            "blister\n",
            "red_sore_around_nose\n",
            "yellow_crust_ooze\n",
            "prognosis\n"
          ]
        }
      ]
    },
    {
      "cell_type": "code",
      "source": [
        "#Dropping the rows based on some specific classes which does not belongs to any hierarchy\n",
        "data = data[data['prognosis'] != 'Chronic cholestasis']\n",
        "data = data[data['prognosis'] != 'Paralysis (brain hemorrhage)']\n",
        "data = data[data['prognosis'] != 'Dimorphic hemmorhoids(piles)'] #This will be the original dataset to work"
      ],
      "metadata": {
        "id": "aMfabBdwxjQX"
      },
      "execution_count": 12,
      "outputs": []
    },
    {
      "cell_type": "code",
      "source": [
        "#copying the data in a new variable for future use\n",
        "preprocessed_original_data = data.copy()"
      ],
      "metadata": {
        "id": "1bNwNkOP4x03"
      },
      "execution_count": 13,
      "outputs": []
    },
    {
      "cell_type": "code",
      "source": [
        "#Checking the shape again after cleaning irrelevant rows\n",
        "data.shape"
      ],
      "metadata": {
        "id": "4oQfzw3r7oLF",
        "colab": {
          "base_uri": "https://localhost:8080/"
        },
        "outputId": "7adf1645-6050-48d0-a162-05f3ee394d78"
      },
      "execution_count": 14,
      "outputs": [
        {
          "output_type": "execute_result",
          "data": {
            "text/plain": [
              "(4560, 133)"
            ]
          },
          "metadata": {},
          "execution_count": 14
        }
      ]
    },
    {
      "cell_type": "code",
      "source": [
        "#Saving the updated dataset as csv file \n",
        "data.to_csv('updated_data.csv')"
      ],
      "metadata": {
        "id": "YCvLld4b7vZg"
      },
      "execution_count": 15,
      "outputs": []
    },
    {
      "cell_type": "code",
      "source": [
        "data.head(5)"
      ],
      "metadata": {
        "id": "7r_rxnVq_tZI",
        "colab": {
          "base_uri": "https://localhost:8080/",
          "height": 559
        },
        "outputId": "0196bfb0-511f-4767-f30a-cc2ad385c385"
      },
      "execution_count": 16,
      "outputs": [
        {
          "output_type": "execute_result",
          "data": {
            "text/plain": [
              "   itching  skin_rash  nodal_skin_eruptions  continuous_sneezing  shivering  \\\n",
              "0        0          0                     0                    0          0   \n",
              "1        0          0                     0                    0          0   \n",
              "2        0          0                     0                    0          0   \n",
              "3        0          0                     0                    0          0   \n",
              "4        0          0                     0                    0          0   \n",
              "\n",
              "   chills  joint_pain  stomach_pain  acidity  ulcers_on_tongue  ...  \\\n",
              "0       0           0             0        0                 0  ...   \n",
              "1       0           0             0        0                 0  ...   \n",
              "2       0           0             0        0                 0  ...   \n",
              "3       0           0             0        0                 0  ...   \n",
              "4       0           0             0        0                 0  ...   \n",
              "\n",
              "   blackheads  scurring  skin_peeling  silver_like_dusting  \\\n",
              "0           0         0             0                    0   \n",
              "1           0         0             0                    0   \n",
              "2           0         0             0                    0   \n",
              "3           0         0             0                    0   \n",
              "4           0         0             0                    0   \n",
              "\n",
              "   small_dents_in_nails  inflammatory_nails  blister  red_sore_around_nose  \\\n",
              "0                     0                   0        0                     0   \n",
              "1                     0                   0        0                     0   \n",
              "2                     0                   0        0                     0   \n",
              "3                     0                   0        0                     0   \n",
              "4                     0                   0        0                     0   \n",
              "\n",
              "   yellow_crust_ooze                                prognosis  \n",
              "0                  0  (vertigo) Paroymsal  Positional Vertigo  \n",
              "1                  0  (vertigo) Paroymsal  Positional Vertigo  \n",
              "2                  0  (vertigo) Paroymsal  Positional Vertigo  \n",
              "3                  0  (vertigo) Paroymsal  Positional Vertigo  \n",
              "4                  0  (vertigo) Paroymsal  Positional Vertigo  \n",
              "\n",
              "[5 rows x 133 columns]"
            ],
            "text/html": [
              "\n",
              "  <div id=\"df-e37045c2-68fd-4eef-b494-1365cdac1b14\">\n",
              "    <div class=\"colab-df-container\">\n",
              "      <div>\n",
              "<style scoped>\n",
              "    .dataframe tbody tr th:only-of-type {\n",
              "        vertical-align: middle;\n",
              "    }\n",
              "\n",
              "    .dataframe tbody tr th {\n",
              "        vertical-align: top;\n",
              "    }\n",
              "\n",
              "    .dataframe thead th {\n",
              "        text-align: right;\n",
              "    }\n",
              "</style>\n",
              "<table border=\"1\" class=\"dataframe\">\n",
              "  <thead>\n",
              "    <tr style=\"text-align: right;\">\n",
              "      <th></th>\n",
              "      <th>itching</th>\n",
              "      <th>skin_rash</th>\n",
              "      <th>nodal_skin_eruptions</th>\n",
              "      <th>continuous_sneezing</th>\n",
              "      <th>shivering</th>\n",
              "      <th>chills</th>\n",
              "      <th>joint_pain</th>\n",
              "      <th>stomach_pain</th>\n",
              "      <th>acidity</th>\n",
              "      <th>ulcers_on_tongue</th>\n",
              "      <th>...</th>\n",
              "      <th>blackheads</th>\n",
              "      <th>scurring</th>\n",
              "      <th>skin_peeling</th>\n",
              "      <th>silver_like_dusting</th>\n",
              "      <th>small_dents_in_nails</th>\n",
              "      <th>inflammatory_nails</th>\n",
              "      <th>blister</th>\n",
              "      <th>red_sore_around_nose</th>\n",
              "      <th>yellow_crust_ooze</th>\n",
              "      <th>prognosis</th>\n",
              "    </tr>\n",
              "  </thead>\n",
              "  <tbody>\n",
              "    <tr>\n",
              "      <th>0</th>\n",
              "      <td>0</td>\n",
              "      <td>0</td>\n",
              "      <td>0</td>\n",
              "      <td>0</td>\n",
              "      <td>0</td>\n",
              "      <td>0</td>\n",
              "      <td>0</td>\n",
              "      <td>0</td>\n",
              "      <td>0</td>\n",
              "      <td>0</td>\n",
              "      <td>...</td>\n",
              "      <td>0</td>\n",
              "      <td>0</td>\n",
              "      <td>0</td>\n",
              "      <td>0</td>\n",
              "      <td>0</td>\n",
              "      <td>0</td>\n",
              "      <td>0</td>\n",
              "      <td>0</td>\n",
              "      <td>0</td>\n",
              "      <td>(vertigo) Paroymsal  Positional Vertigo</td>\n",
              "    </tr>\n",
              "    <tr>\n",
              "      <th>1</th>\n",
              "      <td>0</td>\n",
              "      <td>0</td>\n",
              "      <td>0</td>\n",
              "      <td>0</td>\n",
              "      <td>0</td>\n",
              "      <td>0</td>\n",
              "      <td>0</td>\n",
              "      <td>0</td>\n",
              "      <td>0</td>\n",
              "      <td>0</td>\n",
              "      <td>...</td>\n",
              "      <td>0</td>\n",
              "      <td>0</td>\n",
              "      <td>0</td>\n",
              "      <td>0</td>\n",
              "      <td>0</td>\n",
              "      <td>0</td>\n",
              "      <td>0</td>\n",
              "      <td>0</td>\n",
              "      <td>0</td>\n",
              "      <td>(vertigo) Paroymsal  Positional Vertigo</td>\n",
              "    </tr>\n",
              "    <tr>\n",
              "      <th>2</th>\n",
              "      <td>0</td>\n",
              "      <td>0</td>\n",
              "      <td>0</td>\n",
              "      <td>0</td>\n",
              "      <td>0</td>\n",
              "      <td>0</td>\n",
              "      <td>0</td>\n",
              "      <td>0</td>\n",
              "      <td>0</td>\n",
              "      <td>0</td>\n",
              "      <td>...</td>\n",
              "      <td>0</td>\n",
              "      <td>0</td>\n",
              "      <td>0</td>\n",
              "      <td>0</td>\n",
              "      <td>0</td>\n",
              "      <td>0</td>\n",
              "      <td>0</td>\n",
              "      <td>0</td>\n",
              "      <td>0</td>\n",
              "      <td>(vertigo) Paroymsal  Positional Vertigo</td>\n",
              "    </tr>\n",
              "    <tr>\n",
              "      <th>3</th>\n",
              "      <td>0</td>\n",
              "      <td>0</td>\n",
              "      <td>0</td>\n",
              "      <td>0</td>\n",
              "      <td>0</td>\n",
              "      <td>0</td>\n",
              "      <td>0</td>\n",
              "      <td>0</td>\n",
              "      <td>0</td>\n",
              "      <td>0</td>\n",
              "      <td>...</td>\n",
              "      <td>0</td>\n",
              "      <td>0</td>\n",
              "      <td>0</td>\n",
              "      <td>0</td>\n",
              "      <td>0</td>\n",
              "      <td>0</td>\n",
              "      <td>0</td>\n",
              "      <td>0</td>\n",
              "      <td>0</td>\n",
              "      <td>(vertigo) Paroymsal  Positional Vertigo</td>\n",
              "    </tr>\n",
              "    <tr>\n",
              "      <th>4</th>\n",
              "      <td>0</td>\n",
              "      <td>0</td>\n",
              "      <td>0</td>\n",
              "      <td>0</td>\n",
              "      <td>0</td>\n",
              "      <td>0</td>\n",
              "      <td>0</td>\n",
              "      <td>0</td>\n",
              "      <td>0</td>\n",
              "      <td>0</td>\n",
              "      <td>...</td>\n",
              "      <td>0</td>\n",
              "      <td>0</td>\n",
              "      <td>0</td>\n",
              "      <td>0</td>\n",
              "      <td>0</td>\n",
              "      <td>0</td>\n",
              "      <td>0</td>\n",
              "      <td>0</td>\n",
              "      <td>0</td>\n",
              "      <td>(vertigo) Paroymsal  Positional Vertigo</td>\n",
              "    </tr>\n",
              "  </tbody>\n",
              "</table>\n",
              "<p>5 rows × 133 columns</p>\n",
              "</div>\n",
              "      <button class=\"colab-df-convert\" onclick=\"convertToInteractive('df-e37045c2-68fd-4eef-b494-1365cdac1b14')\"\n",
              "              title=\"Convert this dataframe to an interactive table.\"\n",
              "              style=\"display:none;\">\n",
              "        \n",
              "  <svg xmlns=\"http://www.w3.org/2000/svg\" height=\"24px\"viewBox=\"0 0 24 24\"\n",
              "       width=\"24px\">\n",
              "    <path d=\"M0 0h24v24H0V0z\" fill=\"none\"/>\n",
              "    <path d=\"M18.56 5.44l.94 2.06.94-2.06 2.06-.94-2.06-.94-.94-2.06-.94 2.06-2.06.94zm-11 1L8.5 8.5l.94-2.06 2.06-.94-2.06-.94L8.5 2.5l-.94 2.06-2.06.94zm10 10l.94 2.06.94-2.06 2.06-.94-2.06-.94-.94-2.06-.94 2.06-2.06.94z\"/><path d=\"M17.41 7.96l-1.37-1.37c-.4-.4-.92-.59-1.43-.59-.52 0-1.04.2-1.43.59L10.3 9.45l-7.72 7.72c-.78.78-.78 2.05 0 2.83L4 21.41c.39.39.9.59 1.41.59.51 0 1.02-.2 1.41-.59l7.78-7.78 2.81-2.81c.8-.78.8-2.07 0-2.86zM5.41 20L4 18.59l7.72-7.72 1.47 1.35L5.41 20z\"/>\n",
              "  </svg>\n",
              "      </button>\n",
              "      \n",
              "  <style>\n",
              "    .colab-df-container {\n",
              "      display:flex;\n",
              "      flex-wrap:wrap;\n",
              "      gap: 12px;\n",
              "    }\n",
              "\n",
              "    .colab-df-convert {\n",
              "      background-color: #E8F0FE;\n",
              "      border: none;\n",
              "      border-radius: 50%;\n",
              "      cursor: pointer;\n",
              "      display: none;\n",
              "      fill: #1967D2;\n",
              "      height: 32px;\n",
              "      padding: 0 0 0 0;\n",
              "      width: 32px;\n",
              "    }\n",
              "\n",
              "    .colab-df-convert:hover {\n",
              "      background-color: #E2EBFA;\n",
              "      box-shadow: 0px 1px 2px rgba(60, 64, 67, 0.3), 0px 1px 3px 1px rgba(60, 64, 67, 0.15);\n",
              "      fill: #174EA6;\n",
              "    }\n",
              "\n",
              "    [theme=dark] .colab-df-convert {\n",
              "      background-color: #3B4455;\n",
              "      fill: #D2E3FC;\n",
              "    }\n",
              "\n",
              "    [theme=dark] .colab-df-convert:hover {\n",
              "      background-color: #434B5C;\n",
              "      box-shadow: 0px 1px 3px 1px rgba(0, 0, 0, 0.15);\n",
              "      filter: drop-shadow(0px 1px 2px rgba(0, 0, 0, 0.3));\n",
              "      fill: #FFFFFF;\n",
              "    }\n",
              "  </style>\n",
              "\n",
              "      <script>\n",
              "        const buttonEl =\n",
              "          document.querySelector('#df-e37045c2-68fd-4eef-b494-1365cdac1b14 button.colab-df-convert');\n",
              "        buttonEl.style.display =\n",
              "          google.colab.kernel.accessAllowed ? 'block' : 'none';\n",
              "\n",
              "        async function convertToInteractive(key) {\n",
              "          const element = document.querySelector('#df-e37045c2-68fd-4eef-b494-1365cdac1b14');\n",
              "          const dataTable =\n",
              "            await google.colab.kernel.invokeFunction('convertToInteractive',\n",
              "                                                     [key], {});\n",
              "          if (!dataTable) return;\n",
              "\n",
              "          const docLinkHtml = 'Like what you see? Visit the ' +\n",
              "            '<a target=\"_blank\" href=https://colab.research.google.com/notebooks/data_table.ipynb>data table notebook</a>'\n",
              "            + ' to learn more about interactive tables.';\n",
              "          element.innerHTML = '';\n",
              "          dataTable['output_type'] = 'display_data';\n",
              "          await google.colab.output.renderOutput(dataTable, element);\n",
              "          const docLink = document.createElement('div');\n",
              "          docLink.innerHTML = docLinkHtml;\n",
              "          element.appendChild(docLink);\n",
              "        }\n",
              "      </script>\n",
              "    </div>\n",
              "  </div>\n",
              "  "
            ]
          },
          "metadata": {},
          "execution_count": 16
        }
      ]
    },
    {
      "cell_type": "code",
      "source": [
        "count = data['prognosis'].unique()\n",
        "print(count)"
      ],
      "metadata": {
        "id": "wUwi3bQhdRP1",
        "colab": {
          "base_uri": "https://localhost:8080/"
        },
        "outputId": "1e91ba0a-db0b-4031-9a89-f38156586ec8"
      },
      "execution_count": 17,
      "outputs": [
        {
          "output_type": "stream",
          "name": "stdout",
          "text": [
            "['(vertigo) Paroymsal  Positional Vertigo' 'Acne' 'AIDS'\n",
            " 'Alcoholic hepatitis' 'Allergy' 'Arthritis' 'Bronchial Asthma'\n",
            " 'Cervical spondylosis' 'Chicken pox' 'Common Cold' 'Dengue' 'Diabetes '\n",
            " 'Drug Reaction' 'Fungal infection' 'Gastroenteritis' 'GERD'\n",
            " 'Heart attack' 'hepatitis A' 'Hepatitis B' 'Hepatitis C' 'Hepatitis D'\n",
            " 'Hepatitis E' 'Hypertension ' 'Hyperthyroidism' 'Hypoglycemia'\n",
            " 'Hypothyroidism' 'Impetigo' 'Jaundice' 'Malaria' 'Migraine'\n",
            " 'Osteoarthristis' 'Peptic ulcer diseae' 'Pneumonia' 'Psoriasis'\n",
            " 'Tuberculosis' 'Typhoid' 'Urinary tract infection' 'Varicose veins']\n"
          ]
        }
      ]
    },
    {
      "cell_type": "markdown",
      "source": [
        "# Level 1 Data Preprocessing"
      ],
      "metadata": {
        "id": "MDuRJzWsN-YE"
      }
    },
    {
      "cell_type": "code",
      "source": [
        "data1 = data.copy()"
      ],
      "metadata": {
        "id": "_a-08pilN8MP"
      },
      "execution_count": 18,
      "outputs": []
    },
    {
      "cell_type": "code",
      "source": [
        "#Degenerate\n",
        "data1 = data.replace(['(vertigo) Paroymsal  Positional Vertigo', 'Acne',\n",
        " 'Alcoholic hepatitis', 'Allergy', 'Arthritis','Bronchial Asthma',\n",
        " 'Cervical spondylosis', 'Common Cold',\n",
        " 'Drug Reaction', 'Gastroenteritis', 'GERD',\n",
        " 'Heart attack', 'Hypertension ', 'Hyperthyroidism',\n",
        " 'Hypothyroidism', 'Impetigo', 'Jaundice', 'Migraine',\n",
        " 'Osteoarthristis', 'Peptic ulcer diseae', 'Pneumonia', 'Psoriasis', 'Varicose veins'], 'Degenerate')\n"
      ],
      "metadata": {
        "id": "qz8jOF0nDwGZ"
      },
      "execution_count": 19,
      "outputs": []
    },
    {
      "cell_type": "code",
      "source": [
        "#Immunological\n",
        "data1 = data1.replace(['AIDS',\n",
        " 'Chicken pox', 'Dengue', 'Fungal infection', 'hepatitis A' ,'Hepatitis B', 'Hepatitis C', 'Hepatitis D',\n",
        " 'Hepatitis E', 'Malaria',\n",
        " 'Tuberculosis', 'Typhoid', 'Urinary tract infection'], 'Immunological')\n"
      ],
      "metadata": {
        "id": "YzQ3y2l0dDBb"
      },
      "execution_count": 20,
      "outputs": []
    },
    {
      "cell_type": "code",
      "source": [
        "#Genetic\n",
        "data1 = data1.replace(['Diabetes ', 'Hypoglycemia'], 'Genetic')"
      ],
      "metadata": {
        "id": "BaM8mmC4er51"
      },
      "execution_count": 21,
      "outputs": []
    },
    {
      "cell_type": "code",
      "source": [
        "#Checking the target hierarchy\n",
        "count = data1['prognosis'].unique()\n",
        "print(count)"
      ],
      "metadata": {
        "id": "M8nZpXJbWRZr",
        "colab": {
          "base_uri": "https://localhost:8080/"
        },
        "outputId": "3bd30b9f-c137-4a18-cec4-8c670ed71743"
      },
      "execution_count": 22,
      "outputs": [
        {
          "output_type": "stream",
          "name": "stdout",
          "text": [
            "['Degenerate' 'Immunological' 'Genetic']\n"
          ]
        }
      ]
    },
    {
      "cell_type": "code",
      "source": [
        "#Checking the number of target hierarchy\n",
        "for i in range(len(count)):\n",
        "  print(count[i])\n",
        "print(i)"
      ],
      "metadata": {
        "id": "Ki1a6GHMW--v",
        "colab": {
          "base_uri": "https://localhost:8080/"
        },
        "outputId": "79cc0dbc-949c-49fd-f570-769f65a99afd"
      },
      "execution_count": 23,
      "outputs": [
        {
          "output_type": "stream",
          "name": "stdout",
          "text": [
            "Degenerate\n",
            "Immunological\n",
            "Genetic\n",
            "2\n"
          ]
        }
      ]
    },
    {
      "cell_type": "markdown",
      "source": [
        "Label Encoding for data1"
      ],
      "metadata": {
        "id": "cegHce5dVOe5"
      }
    },
    {
      "cell_type": "code",
      "source": [
        "#Printing the level 1 preprocessed dataset\n",
        "data1.head(5)"
      ],
      "metadata": {
        "id": "UtGOF-E5YqLx",
        "colab": {
          "base_uri": "https://localhost:8080/",
          "height": 299
        },
        "outputId": "f2bba840-dfa0-4552-c995-066c3fbbf0f5"
      },
      "execution_count": 24,
      "outputs": [
        {
          "output_type": "execute_result",
          "data": {
            "text/plain": [
              "   itching  skin_rash  nodal_skin_eruptions  continuous_sneezing  shivering  \\\n",
              "0        0          0                     0                    0          0   \n",
              "1        0          0                     0                    0          0   \n",
              "2        0          0                     0                    0          0   \n",
              "3        0          0                     0                    0          0   \n",
              "4        0          0                     0                    0          0   \n",
              "\n",
              "   chills  joint_pain  stomach_pain  acidity  ulcers_on_tongue  ...  \\\n",
              "0       0           0             0        0                 0  ...   \n",
              "1       0           0             0        0                 0  ...   \n",
              "2       0           0             0        0                 0  ...   \n",
              "3       0           0             0        0                 0  ...   \n",
              "4       0           0             0        0                 0  ...   \n",
              "\n",
              "   blackheads  scurring  skin_peeling  silver_like_dusting  \\\n",
              "0           0         0             0                    0   \n",
              "1           0         0             0                    0   \n",
              "2           0         0             0                    0   \n",
              "3           0         0             0                    0   \n",
              "4           0         0             0                    0   \n",
              "\n",
              "   small_dents_in_nails  inflammatory_nails  blister  red_sore_around_nose  \\\n",
              "0                     0                   0        0                     0   \n",
              "1                     0                   0        0                     0   \n",
              "2                     0                   0        0                     0   \n",
              "3                     0                   0        0                     0   \n",
              "4                     0                   0        0                     0   \n",
              "\n",
              "   yellow_crust_ooze   prognosis  \n",
              "0                  0  Degenerate  \n",
              "1                  0  Degenerate  \n",
              "2                  0  Degenerate  \n",
              "3                  0  Degenerate  \n",
              "4                  0  Degenerate  \n",
              "\n",
              "[5 rows x 133 columns]"
            ],
            "text/html": [
              "\n",
              "  <div id=\"df-9a5a728c-e0e1-4036-8d55-66cba717fd5b\">\n",
              "    <div class=\"colab-df-container\">\n",
              "      <div>\n",
              "<style scoped>\n",
              "    .dataframe tbody tr th:only-of-type {\n",
              "        vertical-align: middle;\n",
              "    }\n",
              "\n",
              "    .dataframe tbody tr th {\n",
              "        vertical-align: top;\n",
              "    }\n",
              "\n",
              "    .dataframe thead th {\n",
              "        text-align: right;\n",
              "    }\n",
              "</style>\n",
              "<table border=\"1\" class=\"dataframe\">\n",
              "  <thead>\n",
              "    <tr style=\"text-align: right;\">\n",
              "      <th></th>\n",
              "      <th>itching</th>\n",
              "      <th>skin_rash</th>\n",
              "      <th>nodal_skin_eruptions</th>\n",
              "      <th>continuous_sneezing</th>\n",
              "      <th>shivering</th>\n",
              "      <th>chills</th>\n",
              "      <th>joint_pain</th>\n",
              "      <th>stomach_pain</th>\n",
              "      <th>acidity</th>\n",
              "      <th>ulcers_on_tongue</th>\n",
              "      <th>...</th>\n",
              "      <th>blackheads</th>\n",
              "      <th>scurring</th>\n",
              "      <th>skin_peeling</th>\n",
              "      <th>silver_like_dusting</th>\n",
              "      <th>small_dents_in_nails</th>\n",
              "      <th>inflammatory_nails</th>\n",
              "      <th>blister</th>\n",
              "      <th>red_sore_around_nose</th>\n",
              "      <th>yellow_crust_ooze</th>\n",
              "      <th>prognosis</th>\n",
              "    </tr>\n",
              "  </thead>\n",
              "  <tbody>\n",
              "    <tr>\n",
              "      <th>0</th>\n",
              "      <td>0</td>\n",
              "      <td>0</td>\n",
              "      <td>0</td>\n",
              "      <td>0</td>\n",
              "      <td>0</td>\n",
              "      <td>0</td>\n",
              "      <td>0</td>\n",
              "      <td>0</td>\n",
              "      <td>0</td>\n",
              "      <td>0</td>\n",
              "      <td>...</td>\n",
              "      <td>0</td>\n",
              "      <td>0</td>\n",
              "      <td>0</td>\n",
              "      <td>0</td>\n",
              "      <td>0</td>\n",
              "      <td>0</td>\n",
              "      <td>0</td>\n",
              "      <td>0</td>\n",
              "      <td>0</td>\n",
              "      <td>Degenerate</td>\n",
              "    </tr>\n",
              "    <tr>\n",
              "      <th>1</th>\n",
              "      <td>0</td>\n",
              "      <td>0</td>\n",
              "      <td>0</td>\n",
              "      <td>0</td>\n",
              "      <td>0</td>\n",
              "      <td>0</td>\n",
              "      <td>0</td>\n",
              "      <td>0</td>\n",
              "      <td>0</td>\n",
              "      <td>0</td>\n",
              "      <td>...</td>\n",
              "      <td>0</td>\n",
              "      <td>0</td>\n",
              "      <td>0</td>\n",
              "      <td>0</td>\n",
              "      <td>0</td>\n",
              "      <td>0</td>\n",
              "      <td>0</td>\n",
              "      <td>0</td>\n",
              "      <td>0</td>\n",
              "      <td>Degenerate</td>\n",
              "    </tr>\n",
              "    <tr>\n",
              "      <th>2</th>\n",
              "      <td>0</td>\n",
              "      <td>0</td>\n",
              "      <td>0</td>\n",
              "      <td>0</td>\n",
              "      <td>0</td>\n",
              "      <td>0</td>\n",
              "      <td>0</td>\n",
              "      <td>0</td>\n",
              "      <td>0</td>\n",
              "      <td>0</td>\n",
              "      <td>...</td>\n",
              "      <td>0</td>\n",
              "      <td>0</td>\n",
              "      <td>0</td>\n",
              "      <td>0</td>\n",
              "      <td>0</td>\n",
              "      <td>0</td>\n",
              "      <td>0</td>\n",
              "      <td>0</td>\n",
              "      <td>0</td>\n",
              "      <td>Degenerate</td>\n",
              "    </tr>\n",
              "    <tr>\n",
              "      <th>3</th>\n",
              "      <td>0</td>\n",
              "      <td>0</td>\n",
              "      <td>0</td>\n",
              "      <td>0</td>\n",
              "      <td>0</td>\n",
              "      <td>0</td>\n",
              "      <td>0</td>\n",
              "      <td>0</td>\n",
              "      <td>0</td>\n",
              "      <td>0</td>\n",
              "      <td>...</td>\n",
              "      <td>0</td>\n",
              "      <td>0</td>\n",
              "      <td>0</td>\n",
              "      <td>0</td>\n",
              "      <td>0</td>\n",
              "      <td>0</td>\n",
              "      <td>0</td>\n",
              "      <td>0</td>\n",
              "      <td>0</td>\n",
              "      <td>Degenerate</td>\n",
              "    </tr>\n",
              "    <tr>\n",
              "      <th>4</th>\n",
              "      <td>0</td>\n",
              "      <td>0</td>\n",
              "      <td>0</td>\n",
              "      <td>0</td>\n",
              "      <td>0</td>\n",
              "      <td>0</td>\n",
              "      <td>0</td>\n",
              "      <td>0</td>\n",
              "      <td>0</td>\n",
              "      <td>0</td>\n",
              "      <td>...</td>\n",
              "      <td>0</td>\n",
              "      <td>0</td>\n",
              "      <td>0</td>\n",
              "      <td>0</td>\n",
              "      <td>0</td>\n",
              "      <td>0</td>\n",
              "      <td>0</td>\n",
              "      <td>0</td>\n",
              "      <td>0</td>\n",
              "      <td>Degenerate</td>\n",
              "    </tr>\n",
              "  </tbody>\n",
              "</table>\n",
              "<p>5 rows × 133 columns</p>\n",
              "</div>\n",
              "      <button class=\"colab-df-convert\" onclick=\"convertToInteractive('df-9a5a728c-e0e1-4036-8d55-66cba717fd5b')\"\n",
              "              title=\"Convert this dataframe to an interactive table.\"\n",
              "              style=\"display:none;\">\n",
              "        \n",
              "  <svg xmlns=\"http://www.w3.org/2000/svg\" height=\"24px\"viewBox=\"0 0 24 24\"\n",
              "       width=\"24px\">\n",
              "    <path d=\"M0 0h24v24H0V0z\" fill=\"none\"/>\n",
              "    <path d=\"M18.56 5.44l.94 2.06.94-2.06 2.06-.94-2.06-.94-.94-2.06-.94 2.06-2.06.94zm-11 1L8.5 8.5l.94-2.06 2.06-.94-2.06-.94L8.5 2.5l-.94 2.06-2.06.94zm10 10l.94 2.06.94-2.06 2.06-.94-2.06-.94-.94-2.06-.94 2.06-2.06.94z\"/><path d=\"M17.41 7.96l-1.37-1.37c-.4-.4-.92-.59-1.43-.59-.52 0-1.04.2-1.43.59L10.3 9.45l-7.72 7.72c-.78.78-.78 2.05 0 2.83L4 21.41c.39.39.9.59 1.41.59.51 0 1.02-.2 1.41-.59l7.78-7.78 2.81-2.81c.8-.78.8-2.07 0-2.86zM5.41 20L4 18.59l7.72-7.72 1.47 1.35L5.41 20z\"/>\n",
              "  </svg>\n",
              "      </button>\n",
              "      \n",
              "  <style>\n",
              "    .colab-df-container {\n",
              "      display:flex;\n",
              "      flex-wrap:wrap;\n",
              "      gap: 12px;\n",
              "    }\n",
              "\n",
              "    .colab-df-convert {\n",
              "      background-color: #E8F0FE;\n",
              "      border: none;\n",
              "      border-radius: 50%;\n",
              "      cursor: pointer;\n",
              "      display: none;\n",
              "      fill: #1967D2;\n",
              "      height: 32px;\n",
              "      padding: 0 0 0 0;\n",
              "      width: 32px;\n",
              "    }\n",
              "\n",
              "    .colab-df-convert:hover {\n",
              "      background-color: #E2EBFA;\n",
              "      box-shadow: 0px 1px 2px rgba(60, 64, 67, 0.3), 0px 1px 3px 1px rgba(60, 64, 67, 0.15);\n",
              "      fill: #174EA6;\n",
              "    }\n",
              "\n",
              "    [theme=dark] .colab-df-convert {\n",
              "      background-color: #3B4455;\n",
              "      fill: #D2E3FC;\n",
              "    }\n",
              "\n",
              "    [theme=dark] .colab-df-convert:hover {\n",
              "      background-color: #434B5C;\n",
              "      box-shadow: 0px 1px 3px 1px rgba(0, 0, 0, 0.15);\n",
              "      filter: drop-shadow(0px 1px 2px rgba(0, 0, 0, 0.3));\n",
              "      fill: #FFFFFF;\n",
              "    }\n",
              "  </style>\n",
              "\n",
              "      <script>\n",
              "        const buttonEl =\n",
              "          document.querySelector('#df-9a5a728c-e0e1-4036-8d55-66cba717fd5b button.colab-df-convert');\n",
              "        buttonEl.style.display =\n",
              "          google.colab.kernel.accessAllowed ? 'block' : 'none';\n",
              "\n",
              "        async function convertToInteractive(key) {\n",
              "          const element = document.querySelector('#df-9a5a728c-e0e1-4036-8d55-66cba717fd5b');\n",
              "          const dataTable =\n",
              "            await google.colab.kernel.invokeFunction('convertToInteractive',\n",
              "                                                     [key], {});\n",
              "          if (!dataTable) return;\n",
              "\n",
              "          const docLinkHtml = 'Like what you see? Visit the ' +\n",
              "            '<a target=\"_blank\" href=https://colab.research.google.com/notebooks/data_table.ipynb>data table notebook</a>'\n",
              "            + ' to learn more about interactive tables.';\n",
              "          element.innerHTML = '';\n",
              "          dataTable['output_type'] = 'display_data';\n",
              "          await google.colab.output.renderOutput(dataTable, element);\n",
              "          const docLink = document.createElement('div');\n",
              "          docLink.innerHTML = docLinkHtml;\n",
              "          element.appendChild(docLink);\n",
              "        }\n",
              "      </script>\n",
              "    </div>\n",
              "  </div>\n",
              "  "
            ]
          },
          "metadata": {},
          "execution_count": 24
        }
      ]
    },
    {
      "cell_type": "markdown",
      "source": [
        "# Level 1 classifier (rfc1)"
      ],
      "metadata": {
        "id": "I0hOzoJzPUtz"
      }
    },
    {
      "cell_type": "code",
      "source": [
        "X_train, X_test, y_train, y_test = train_test_split(data1.drop('prognosis', axis=1), data1['prognosis'], test_size=0.2, random_state=42)\n",
        "\n",
        "# create Random Forest classifier object\n",
        "rfc_disease = RandomForestClassifier(n_estimators=100, random_state=42)\n",
        "\n",
        "# train the classifier\n",
        "rfc_disease.fit(X_train, y_train)\n",
        "\n",
        "# make predictions on the training set\n",
        "print(f\"Accuracy on train data by classifier\\\n",
        ": {accuracy_score(y_train,rfc_disease.predict(X_train))}\")\n",
        "\n",
        "# make predictions on the testing set\n",
        "y_pred = rfc_disease.predict(X_test)\n",
        "\n",
        "# evaluate the performance of the classifier\n",
        "accuracy = accuracy_score(y_test, y_pred)\n",
        "print(\"Accuracy on test data by classifier: \", accuracy)"
      ],
      "metadata": {
        "id": "BJox39RTfTK1",
        "colab": {
          "base_uri": "https://localhost:8080/"
        },
        "outputId": "c05e80ff-17b8-4214-bcc1-94e17a06879e"
      },
      "execution_count": 25,
      "outputs": [
        {
          "output_type": "stream",
          "name": "stdout",
          "text": [
            "Accuracy on train data by classifier: 1.0\n",
            "Accuracy on test data by classifier:  1.0\n"
          ]
        }
      ]
    },
    {
      "cell_type": "code",
      "source": [
        "\"\"\"for i in range(len(y_pred)):\n",
        "  if y_pred[i] == 'Degenerate':\n",
        "    print(\"True\")\"\"\""
      ],
      "metadata": {
        "id": "IUIYeJ7GRjfs",
        "colab": {
          "base_uri": "https://localhost:8080/",
          "height": 36
        },
        "outputId": "9f59fbe3-6485-4b20-fc18-6cdff21e8868"
      },
      "execution_count": 26,
      "outputs": [
        {
          "output_type": "execute_result",
          "data": {
            "text/plain": [
              "'for i in range(len(y_pred)):\\n  if y_pred[i] == \\'Degenerate\\':\\n    print(\"True\")'"
            ],
            "application/vnd.google.colaboratory.intrinsic+json": {
              "type": "string"
            }
          },
          "metadata": {},
          "execution_count": 26
        }
      ]
    },
    {
      "cell_type": "markdown",
      "source": [
        "# Level 2 for Degenrate"
      ],
      "metadata": {
        "id": "HF1kzEhmTCmj"
      }
    },
    {
      "cell_type": "code",
      "source": [
        "data2 = data.copy()\n",
        "#DegerateSubClasses\n",
        "#Gastrointestinal\n",
        "data2 = data2.replace(['Alcoholic hepatitis', 'Gastroenteritis', 'GERD','Peptic ulcer diseae'], 'Gastrointestinal')\n",
        "\n",
        "#Respiratory\n",
        "data2 = data2.replace(['Bronchial Asthma','Common Cold','Pneumonia'], 'Respiratory')\n",
        "\n",
        "#Cardiovascular\n",
        "data2 = data2.replace(['Heart attack', 'Hypertension ','Varicose veins'], 'Cardiovascular')\n",
        "\n",
        "#Endocrine\n",
        "data2 = data2.replace(['Hyperthyroidism','Hypothyroidism'], 'Endocrine')\n",
        "\n",
        "#Integumentary\n",
        "data2 = data2.replace(['Acne','Impetigo', 'Jaundice', 'Psoriasis'], 'Integumentary')\n",
        "\n",
        "#Nervous\n",
        "data2 = data2.replace(['(vertigo) Paroymsal  Positional Vertigo','Migraine'], 'Nervous')\n",
        "\n",
        "#Allergy\n",
        "data2 = data2.replace([ 'Allergy','Drug Reaction'], 'Allergy')\n",
        "\n",
        "#Musculoskeletal \n",
        "data2 = data2.replace(['Arthritis','Cervical spondylosis','Osteoarthristis'], 'Musculoskeletal')\n",
        "\n",
        "#Selecting the desired rows\n",
        "data2 = data2[data2['prognosis'].str.contains('Musculoskeletal') | data2['prognosis'].str.contains('Allergy') | data2['prognosis'].str.contains('Nervous') | data2['prognosis'].str.contains('Gastrointestinal') | data2['prognosis'].str.contains('Endocrine') | data2['prognosis'].str.contains('Integumentary') | data2['prognosis'].str.contains('Respiratory') | data2['prognosis'].str.contains('Cardiovascular')]"
      ],
      "metadata": {
        "id": "9XBnrm83SZpK"
      },
      "execution_count": 27,
      "outputs": []
    },
    {
      "cell_type": "code",
      "source": [
        "#Checking the target hierarchy\n",
        "count = data2['prognosis'].unique()\n",
        "print(count)\n",
        "\n",
        "#Checking the number of target hierarchy\n",
        "for i in range(len(count)):\n",
        "  print(count[i])\n",
        "print(i)"
      ],
      "metadata": {
        "id": "MlEiMGvjU306",
        "colab": {
          "base_uri": "https://localhost:8080/"
        },
        "outputId": "59c3e288-b16e-4d22-c69e-34b0fcd3cb78"
      },
      "execution_count": 28,
      "outputs": [
        {
          "output_type": "stream",
          "name": "stdout",
          "text": [
            "['Nervous' 'Integumentary' 'Gastrointestinal' 'Allergy' 'Musculoskeletal'\n",
            " 'Respiratory' 'Cardiovascular' 'Endocrine']\n",
            "Nervous\n",
            "Integumentary\n",
            "Gastrointestinal\n",
            "Allergy\n",
            "Musculoskeletal\n",
            "Respiratory\n",
            "Cardiovascular\n",
            "Endocrine\n",
            "7\n"
          ]
        }
      ]
    },
    {
      "cell_type": "markdown",
      "source": [
        "# Level 2 for Immunological"
      ],
      "metadata": {
        "id": "vu_Pf1EambfZ"
      }
    },
    {
      "cell_type": "code",
      "source": [
        "data3 = data.copy()\n",
        "\n",
        "#ImmunologicalSubClass\n",
        "#Fungal\n",
        "data3 = data3.replace(['Fungal infection'], 'Fungal')\n",
        "\n",
        "#Bacterial\n",
        "data3 = data3.replace(['Tuberculosis', 'Typhoid', 'Urinary tract infection'], 'Bacterial')\n",
        "\n",
        "#Viral\n",
        "data3 = data3.replace(['AIDS','Chicken pox', 'Dengue', 'hepatitis A' ,'Hepatitis B', 'Hepatitis C', 'Hepatitis D','Hepatitis E'], 'Viral')\n",
        "\n",
        "#Parasitic\n",
        "data3 = data3.replace(['Malaria'] , 'Parasitic')\n",
        "\n",
        "#Selecting the desired rows\n",
        "data3 = data3[data3['prognosis'].str.contains('Fungal') | data3['prognosis'].str.contains('Bacterial') | data3['prognosis'].str.contains('Viral') | data3['prognosis'].str.contains('Parasitic')]"
      ],
      "metadata": {
        "id": "ZQHKExJYVHgT"
      },
      "execution_count": 29,
      "outputs": []
    },
    {
      "cell_type": "markdown",
      "source": [],
      "metadata": {
        "id": "Azx1dN2qvPlo"
      }
    },
    {
      "cell_type": "code",
      "source": [
        "#Checking the target hierarchy\n",
        "count = data3['prognosis'].unique()\n",
        "print(count)\n",
        "\n",
        "#Checking the number of target hierarchy\n",
        "for i in range(len(count)):\n",
        "  print(count[i])\n",
        "print(i)"
      ],
      "metadata": {
        "id": "nxFLMxOAoTqK",
        "colab": {
          "base_uri": "https://localhost:8080/"
        },
        "outputId": "20dde2bc-a220-44ad-f351-c574eb4e2ace"
      },
      "execution_count": 30,
      "outputs": [
        {
          "output_type": "stream",
          "name": "stdout",
          "text": [
            "['Viral' 'Fungal' 'Parasitic' 'Bacterial']\n",
            "Viral\n",
            "Fungal\n",
            "Parasitic\n",
            "Bacterial\n",
            "3\n"
          ]
        }
      ]
    },
    {
      "cell_type": "markdown",
      "source": [
        "# Level 2 for Genetic "
      ],
      "metadata": {
        "id": "AqU-rBFLot2K"
      }
    },
    {
      "cell_type": "code",
      "source": [
        "data4 = data.copy()\n",
        "#Genetic subclass\n",
        "#Inherited\n",
        "data4 = data4.replace(['Diabetes ', 'Hypoglycemia'], 'Inherited')\n",
        "\n",
        "#Selecting the desired rows\n",
        "data4 = data4[data4['prognosis'].str.contains('Inherited')]"
      ],
      "metadata": {
        "id": "uxdKCrfAo5XQ"
      },
      "execution_count": 31,
      "outputs": []
    },
    {
      "cell_type": "code",
      "source": [
        "#Checking the target hierarchy\n",
        "count = data4['prognosis'].unique()\n",
        "print(count)\n",
        "\n",
        "#Checking the number of target hierarchy\n",
        "for i in range(len(count)):\n",
        "  print(count[i])\n",
        "print(i)"
      ],
      "metadata": {
        "id": "cceVVIR5pS7N",
        "colab": {
          "base_uri": "https://localhost:8080/"
        },
        "outputId": "36bfa809-cf30-4d18-aa11-9600a917d82f"
      },
      "execution_count": 32,
      "outputs": [
        {
          "output_type": "stream",
          "name": "stdout",
          "text": [
            "['Inherited']\n",
            "Inherited\n",
            "0\n"
          ]
        }
      ]
    },
    {
      "cell_type": "markdown",
      "source": [
        "# Level 2 Classifiers"
      ],
      "metadata": {
        "id": "Cf3aqMIepqH9"
      }
    },
    {
      "cell_type": "code",
      "source": [
        "# split data into training and testing sets for data2- Degenerate\n",
        "X_train, X_test, y_train, y_test = train_test_split(data2.drop('prognosis', axis=1), data2['prognosis'], test_size=0.2, random_state=42)\n",
        "\n",
        "# create Random Forest classifier object\n",
        "rfc_degenerate = RandomForestClassifier(n_estimators=100, random_state=42)\n",
        "\n",
        "# train the classifier\n",
        "rfc_degenerate.fit(X_train, y_train)\n",
        "\n",
        "# make predictions on the testing set\n",
        "y_pred = rfc_degenerate.predict(X_test)\n",
        "\n",
        "# evaluate the performance of the classifier\n",
        "accuracy = accuracy_score(y_test, y_pred)\n",
        "print(\"Accuracy: \", accuracy)\n"
      ],
      "metadata": {
        "id": "laZFx1Vfpu6B",
        "colab": {
          "base_uri": "https://localhost:8080/"
        },
        "outputId": "b97077aa-c9f4-423d-a30e-0c613e9356ed"
      },
      "execution_count": 33,
      "outputs": [
        {
          "output_type": "stream",
          "name": "stdout",
          "text": [
            "Accuracy:  1.0\n"
          ]
        }
      ]
    },
    {
      "cell_type": "code",
      "source": [
        "print(np.unique(y_pred))"
      ],
      "metadata": {
        "colab": {
          "base_uri": "https://localhost:8080/"
        },
        "id": "4H7TFnzzNL8l",
        "outputId": "570ec69d-0cf1-47f0-9fc2-c423f8cc7a06"
      },
      "execution_count": 34,
      "outputs": [
        {
          "output_type": "stream",
          "name": "stdout",
          "text": [
            "['Allergy' 'Cardiovascular' 'Endocrine' 'Gastrointestinal' 'Integumentary'\n",
            " 'Musculoskeletal' 'Nervous' 'Respiratory']\n"
          ]
        }
      ]
    },
    {
      "cell_type": "code",
      "source": [
        "# split data into training and testing sets for data3-Immunological\n",
        "X_train, X_test, y_train, y_test = train_test_split(data3.drop('prognosis', axis=1), data3['prognosis'], test_size=0.2, random_state=42)\n",
        "\n",
        "# create Random Forest classifier object\n",
        "rfc_immunological = RandomForestClassifier(n_estimators=100, random_state=42)\n",
        "\n",
        "# train the classifier\n",
        "rfc_immunological.fit(X_train, y_train)\n",
        "\n",
        "# make predictions on the testing set\n",
        "y_pred = rfc_immunological.predict(X_test)\n",
        "\n",
        "# evaluate the performance of the classifier\n",
        "accuracy = accuracy_score(y_test, y_pred)\n",
        "print(\"Accuracy: \", accuracy)\n"
      ],
      "metadata": {
        "id": "-dZacWQSqGm7",
        "colab": {
          "base_uri": "https://localhost:8080/"
        },
        "outputId": "1e07b361-4be0-4d87-987e-94e54d0de614"
      },
      "execution_count": 35,
      "outputs": [
        {
          "output_type": "stream",
          "name": "stdout",
          "text": [
            "Accuracy:  1.0\n"
          ]
        }
      ]
    },
    {
      "cell_type": "code",
      "source": [
        "print(np.unique(y_pred))"
      ],
      "metadata": {
        "colab": {
          "base_uri": "https://localhost:8080/"
        },
        "id": "2wGtYQwQOCJ1",
        "outputId": "46e56684-500f-4adb-98bd-96a6a001ae56"
      },
      "execution_count": 36,
      "outputs": [
        {
          "output_type": "stream",
          "name": "stdout",
          "text": [
            "['Bacterial' 'Fungal' 'Parasitic' 'Viral']\n"
          ]
        }
      ]
    },
    {
      "cell_type": "code",
      "source": [
        "# split data into training and testing sets for data4-Genetic\n",
        "X_train, X_test, y_train, y_test = train_test_split(data4.drop('prognosis', axis=1), data4['prognosis'], test_size=0.2, random_state=42)\n",
        "\n",
        "# create Random Forest classifier object\n",
        "rfc_genetic = RandomForestClassifier(n_estimators=100, random_state=42)\n",
        "\n",
        "# train the classifier\n",
        "rfc_genetic.fit(X_train, y_train)\n",
        "\n",
        "# make predictions on the testing set\n",
        "y_pred = rfc_genetic.predict(X_test)\n",
        "\n",
        "# evaluate the performance of the classifier\n",
        "accuracy = accuracy_score(y_test, y_pred)\n",
        "print(\"Accuracy: \", accuracy)\n"
      ],
      "metadata": {
        "id": "2dfx5YptqUXA",
        "colab": {
          "base_uri": "https://localhost:8080/"
        },
        "outputId": "70815c09-6d1d-42d4-adbf-f6deafa06f5f"
      },
      "execution_count": 37,
      "outputs": [
        {
          "output_type": "stream",
          "name": "stdout",
          "text": [
            "Accuracy:  1.0\n"
          ]
        }
      ]
    },
    {
      "cell_type": "code",
      "source": [
        "print(np.unique(y_pred))"
      ],
      "metadata": {
        "colab": {
          "base_uri": "https://localhost:8080/"
        },
        "id": "gcE1UFkDOH8t",
        "outputId": "031feb1d-745d-40c5-b85a-634b8390a93b"
      },
      "execution_count": 38,
      "outputs": [
        {
          "output_type": "stream",
          "name": "stdout",
          "text": [
            "['Inherited']\n"
          ]
        }
      ]
    },
    {
      "cell_type": "markdown",
      "source": [
        "# Level 3 \n"
      ],
      "metadata": {
        "id": "9XlbIjLisdlS"
      }
    },
    {
      "cell_type": "markdown",
      "source": [
        "For immunological"
      ],
      "metadata": {
        "id": "0mvqK4Q3xQ-s"
      }
    },
    {
      "cell_type": "code",
      "source": [
        "#Fungal- \n",
        "\n",
        "data5 = data.copy()\n",
        "#Selecting the desired rows\n",
        "data5 = data5[data5['prognosis'].str.contains('Fungal infection')]"
      ],
      "metadata": {
        "id": "YDoQND6CrK3g"
      },
      "execution_count": 39,
      "outputs": []
    },
    {
      "cell_type": "code",
      "source": [
        "#Checking the target hierarchy\n",
        "count = data5['prognosis'].unique()\n",
        "print(count)\n",
        "\n",
        "#Checking the number of target hierarchy\n",
        "for i in range(len(count)):\n",
        "  print(count[i])\n",
        "print(i)"
      ],
      "metadata": {
        "id": "Feg--zpNtsSv",
        "colab": {
          "base_uri": "https://localhost:8080/"
        },
        "outputId": "ab3cd46e-9072-444d-87ce-c32116dbd6e4"
      },
      "execution_count": 40,
      "outputs": [
        {
          "output_type": "stream",
          "name": "stdout",
          "text": [
            "['Fungal infection']\n",
            "Fungal infection\n",
            "0\n"
          ]
        }
      ]
    },
    {
      "cell_type": "code",
      "source": [
        "# split data into training and testing sets for data5- Immunological- Fungal\n",
        "X_train, X_test, y_train, y_test = train_test_split(data5.drop('prognosis', axis=1), data5['prognosis'], test_size=0.2, random_state=42)\n",
        "\n",
        "# create Random Forest classifier object\n",
        "rfc_fungal = RandomForestClassifier(n_estimators=100, random_state=42)\n",
        "\n",
        "# train the classifier\n",
        "rfc_fungal.fit(X_train, y_train)\n",
        "\n",
        "# make predictions on the testing set\n",
        "y_pred = rfc_fungal.predict(X_test)\n",
        "\n",
        "# evaluate the performance of the classifier\n",
        "accuracy = accuracy_score(y_test, y_pred)\n",
        "print(\"Accuracy: \", accuracy)\n"
      ],
      "metadata": {
        "id": "X6tGRx_4xX4R",
        "colab": {
          "base_uri": "https://localhost:8080/"
        },
        "outputId": "499b2432-e9de-499f-e7be-21f29cc43163"
      },
      "execution_count": 41,
      "outputs": [
        {
          "output_type": "stream",
          "name": "stdout",
          "text": [
            "Accuracy:  1.0\n"
          ]
        }
      ]
    },
    {
      "cell_type": "code",
      "source": [
        "print(np.unique(y_pred))"
      ],
      "metadata": {
        "colab": {
          "base_uri": "https://localhost:8080/"
        },
        "id": "XJEt6uR7PcEk",
        "outputId": "7fc1c496-e20b-4a20-9bf1-b6383e7a9cf1"
      },
      "execution_count": 42,
      "outputs": [
        {
          "output_type": "stream",
          "name": "stdout",
          "text": [
            "['Fungal infection']\n"
          ]
        }
      ]
    },
    {
      "cell_type": "code",
      "source": [
        "#Bacterial\n",
        "data6 = data.copy()\n",
        "#Selecting the desired rows\n",
        "data6 = data6[data6['prognosis'].str.contains('Tuberculosis') | data6['prognosis'].str.contains('Typhoid') | data6['prognosis'].str.contains('Urinary tract infection')]"
      ],
      "metadata": {
        "id": "0cdrTgW_uts1"
      },
      "execution_count": 43,
      "outputs": []
    },
    {
      "cell_type": "code",
      "source": [
        "#Checking the target hierarchy\n",
        "count = data6['prognosis'].unique()\n",
        "print(count)\n",
        "\n",
        "#Checking the number of target hierarchy\n",
        "for i in range(len(count)):\n",
        "  print(count[i])\n",
        "print(i)"
      ],
      "metadata": {
        "id": "AmSxJiWl1Jbn",
        "colab": {
          "base_uri": "https://localhost:8080/"
        },
        "outputId": "e0955134-0f40-4ac2-c65b-f60debd7dcb8"
      },
      "execution_count": 44,
      "outputs": [
        {
          "output_type": "stream",
          "name": "stdout",
          "text": [
            "['Tuberculosis' 'Typhoid' 'Urinary tract infection']\n",
            "Tuberculosis\n",
            "Typhoid\n",
            "Urinary tract infection\n",
            "2\n"
          ]
        }
      ]
    },
    {
      "cell_type": "code",
      "source": [
        "# split data into training and testing sets for data6- Immunological- Bacterial\n",
        "X_train, X_test, y_train, y_test = train_test_split(data6.drop('prognosis', axis=1), data6['prognosis'], test_size=0.2, random_state=42)\n",
        "\n",
        "# create Random Forest classifier object\n",
        "rfc_bacterial = RandomForestClassifier(n_estimators=100, random_state=42)\n",
        "\n",
        "# train the classifier\n",
        "rfc_bacterial.fit(X_train, y_train)\n",
        "\n",
        "# make predictions on the testing set\n",
        "y_pred = rfc_bacterial.predict(X_test)\n",
        "\n",
        "# evaluate the performance of the classifier\n",
        "accuracy = accuracy_score(y_test, y_pred)\n",
        "print(\"Accuracy: \", accuracy)\n"
      ],
      "metadata": {
        "id": "GCw372Bc1n1p",
        "colab": {
          "base_uri": "https://localhost:8080/"
        },
        "outputId": "28dc9c6d-8d74-4a6f-def3-9a8edf2f0455"
      },
      "execution_count": 45,
      "outputs": [
        {
          "output_type": "stream",
          "name": "stdout",
          "text": [
            "Accuracy:  1.0\n"
          ]
        }
      ]
    },
    {
      "cell_type": "code",
      "source": [
        "print(np.unique(y_pred))"
      ],
      "metadata": {
        "id": "vn7DjCYcfTSj",
        "colab": {
          "base_uri": "https://localhost:8080/"
        },
        "outputId": "6ca99cea-8a64-4b44-a6ad-500f064b44f2"
      },
      "execution_count": 46,
      "outputs": [
        {
          "output_type": "stream",
          "name": "stdout",
          "text": [
            "['Tuberculosis' 'Typhoid' 'Urinary tract infection']\n"
          ]
        }
      ]
    },
    {
      "cell_type": "code",
      "source": [
        "#Parasitic\n",
        "data7 = data.copy()\n",
        "#Selecting the desired rows\n",
        "data7 = data7[data7['prognosis'].str.contains('Malaria')]"
      ],
      "metadata": {
        "id": "SLXE18y1xnkQ"
      },
      "execution_count": 47,
      "outputs": []
    },
    {
      "cell_type": "code",
      "source": [
        "#Checking the target hierarchy\n",
        "count = data7['prognosis'].unique()\n",
        "print(count)\n",
        "\n",
        "#Checking the number of target hierarchy\n",
        "for i in range(len(count)):\n",
        "  print(count[i])\n",
        "print(i)"
      ],
      "metadata": {
        "id": "o916mqYl1PE_",
        "colab": {
          "base_uri": "https://localhost:8080/"
        },
        "outputId": "4748aaf8-81d5-4f24-a9a7-74f2f4726784"
      },
      "execution_count": 48,
      "outputs": [
        {
          "output_type": "stream",
          "name": "stdout",
          "text": [
            "['Malaria']\n",
            "Malaria\n",
            "0\n"
          ]
        }
      ]
    },
    {
      "cell_type": "code",
      "source": [
        "# split data into training and testing sets for data7- Immunological-Parasitical\n",
        "X_train, X_test, y_train, y_test = train_test_split(data7.drop('prognosis', axis=1), data7['prognosis'], test_size=0.2, random_state=42)\n",
        "\n",
        "# create Random Forest classifier object\n",
        "rfc_parasitic = RandomForestClassifier(n_estimators=100, random_state=42)\n",
        "\n",
        "# train the classifier\n",
        "rfc_parasitic.fit(X_train, y_train)\n",
        "\n",
        "# make predictions on the testing set\n",
        "y_pred = rfc_parasitic.predict(X_test)\n",
        "\n",
        "# evaluate the performance of the classifier\n",
        "accuracy = accuracy_score(y_test, y_pred)\n",
        "print(\"Accuracy: \", accuracy)\n"
      ],
      "metadata": {
        "id": "9fUK65vG11X2",
        "colab": {
          "base_uri": "https://localhost:8080/"
        },
        "outputId": "f490170a-095c-4601-d0c9-7a5f06f4e040"
      },
      "execution_count": 49,
      "outputs": [
        {
          "output_type": "stream",
          "name": "stdout",
          "text": [
            "Accuracy:  1.0\n"
          ]
        }
      ]
    },
    {
      "cell_type": "code",
      "source": [
        "print(np.unique(y_pred))"
      ],
      "metadata": {
        "colab": {
          "base_uri": "https://localhost:8080/"
        },
        "id": "3pn4cq4TP1QW",
        "outputId": "1eb44288-55a6-40b1-ca08-9dfd26d3de47"
      },
      "execution_count": 50,
      "outputs": [
        {
          "output_type": "stream",
          "name": "stdout",
          "text": [
            "['Malaria']\n"
          ]
        }
      ]
    },
    {
      "cell_type": "code",
      "source": [
        "#Viral\n",
        "data8 = data.copy()\n",
        "#Selecting the desired rows\n",
        "data8 = data8[data8['prognosis'].str.contains('AIDS') | data8['prognosis'].str.contains('Chicken pox') | data8['prognosis'].str.contains('Dengue') | data8['prognosis'].str.contains('hepatitis A') | data8['prognosis'].str.contains('Hepatitis B') | data8['prognosis'].str.contains('Hepatitis C') | data8['prognosis'].str.contains('Hepatitis D') | data8['prognosis'].str.contains('Hepatitis E')]"
      ],
      "metadata": {
        "id": "Wd6hOKxrx60A"
      },
      "execution_count": 51,
      "outputs": []
    },
    {
      "cell_type": "code",
      "source": [
        "#Checking the target hierarchy\n",
        "count = data8['prognosis'].unique()\n",
        "print(count)\n",
        "\n",
        "#Checking the number of target hierarchy\n",
        "for i in range(len(count)):\n",
        "  print(count[i])\n",
        "print(i)"
      ],
      "metadata": {
        "id": "ottv2F1E1NiY",
        "colab": {
          "base_uri": "https://localhost:8080/"
        },
        "outputId": "7de159bc-7cdd-4ec6-f0b3-2edacc676944"
      },
      "execution_count": 52,
      "outputs": [
        {
          "output_type": "stream",
          "name": "stdout",
          "text": [
            "['AIDS' 'Chicken pox' 'Dengue' 'hepatitis A' 'Hepatitis B' 'Hepatitis C'\n",
            " 'Hepatitis D' 'Hepatitis E']\n",
            "AIDS\n",
            "Chicken pox\n",
            "Dengue\n",
            "hepatitis A\n",
            "Hepatitis B\n",
            "Hepatitis C\n",
            "Hepatitis D\n",
            "Hepatitis E\n",
            "7\n"
          ]
        }
      ]
    },
    {
      "cell_type": "code",
      "source": [
        "# split data into training and testing sets for data8- Immunological-Viral\n",
        "X_train, X_test, y_train, y_test = train_test_split(data8.drop('prognosis', axis=1), data8['prognosis'], test_size=0.2, random_state=42)\n",
        "\n",
        "# create Random Forest classifier object\n",
        "rfc_viral = RandomForestClassifier(n_estimators=100, random_state=42)\n",
        "\n",
        "# train the classifier\n",
        "rfc_viral.fit(X_train, y_train)\n",
        "\n",
        "# make predictions on the testing set\n",
        "y_pred = rfc_viral.predict(X_test)\n",
        "\n",
        "# evaluate the performance of the classifier\n",
        "accuracy = accuracy_score(y_test, y_pred)\n",
        "print(\"Accuracy: \", accuracy)\n"
      ],
      "metadata": {
        "id": "K8TvYxr619w8",
        "colab": {
          "base_uri": "https://localhost:8080/"
        },
        "outputId": "ee73e29f-fe44-4e89-c9ac-91c1fb4f4c88"
      },
      "execution_count": 53,
      "outputs": [
        {
          "output_type": "stream",
          "name": "stdout",
          "text": [
            "Accuracy:  1.0\n"
          ]
        }
      ]
    },
    {
      "cell_type": "code",
      "source": [
        "print(np.unique(y_pred))"
      ],
      "metadata": {
        "colab": {
          "base_uri": "https://localhost:8080/"
        },
        "id": "a-v-r-eBQjMy",
        "outputId": "04b74a16-ebda-4cbe-e97d-e822a2cfa899"
      },
      "execution_count": 54,
      "outputs": [
        {
          "output_type": "stream",
          "name": "stdout",
          "text": [
            "['AIDS' 'Chicken pox' 'Dengue' 'Hepatitis B' 'Hepatitis C' 'Hepatitis D'\n",
            " 'Hepatitis E' 'hepatitis A']\n"
          ]
        }
      ]
    },
    {
      "cell_type": "markdown",
      "source": [
        "For degenerate sub classes"
      ],
      "metadata": {
        "id": "35QZMSBzn4Sx"
      }
    },
    {
      "cell_type": "code",
      "source": [
        "# for degenerate- Gastrointestinal\n",
        "data9 = data.copy()\n",
        "#Selecting the desired rows\n",
        "data9 = data9[data9['prognosis'].str.contains('GERD') | data9['prognosis'].str.contains('Alcoholic hepatitis') | data9['prognosis'].str.contains('Gastroenteritis') | data9['prognosis'].str.contains('Peptic ulcer diseae')]"
      ],
      "metadata": {
        "id": "Tx964rSkzQ2d"
      },
      "execution_count": 55,
      "outputs": []
    },
    {
      "cell_type": "code",
      "source": [
        "#Checking the target hierarchy\n",
        "count = data9['prognosis'].unique()\n",
        "print(count)\n",
        "\n",
        "#Checking the number of target hierarchy\n",
        "for i in range(len(count)):\n",
        "  print(count[i])\n",
        "print(i)"
      ],
      "metadata": {
        "id": "2WkneSpKuSUU",
        "colab": {
          "base_uri": "https://localhost:8080/"
        },
        "outputId": "f12064e9-93a8-432e-f11d-a0fcfa2b5793"
      },
      "execution_count": 56,
      "outputs": [
        {
          "output_type": "stream",
          "name": "stdout",
          "text": [
            "['Alcoholic hepatitis' 'Gastroenteritis' 'GERD' 'Peptic ulcer diseae']\n",
            "Alcoholic hepatitis\n",
            "Gastroenteritis\n",
            "GERD\n",
            "Peptic ulcer diseae\n",
            "3\n"
          ]
        }
      ]
    },
    {
      "cell_type": "code",
      "source": [
        "# split data into training and testing sets for data9- Degenerate\n",
        "X_train, X_test, y_train, y_test = train_test_split(data9.drop('prognosis', axis=1), data9['prognosis'], test_size=0.2, random_state=42)\n",
        "\n",
        "# create Random Forest classifier object\n",
        "rfc_gastrointestinal = RandomForestClassifier(n_estimators=100, random_state=42)\n",
        "\n",
        "# train the classifier\n",
        "rfc_gastrointestinal.fit(X_train, y_train)\n",
        "\n",
        "# make predictions on the testing set\n",
        "y_pred = rfc_gastrointestinal.predict(X_test)\n",
        "\n",
        "# evaluate the performance of the classifier\n",
        "accuracy = accuracy_score(y_test, y_pred)\n",
        "print(\"Accuracy: \", accuracy)\n"
      ],
      "metadata": {
        "id": "gnlJOIXG2I-u",
        "colab": {
          "base_uri": "https://localhost:8080/"
        },
        "outputId": "c67cde48-2a2d-46d2-e615-5fcb28c49a31"
      },
      "execution_count": 57,
      "outputs": [
        {
          "output_type": "stream",
          "name": "stdout",
          "text": [
            "Accuracy:  1.0\n"
          ]
        }
      ]
    },
    {
      "cell_type": "code",
      "source": [
        "print(np.unique(y_pred))"
      ],
      "metadata": {
        "colab": {
          "base_uri": "https://localhost:8080/"
        },
        "id": "V038OkVmRKYw",
        "outputId": "09e0d494-1eb6-4da7-c9b6-9fedbd4b8221"
      },
      "execution_count": 58,
      "outputs": [
        {
          "output_type": "stream",
          "name": "stdout",
          "text": [
            "['Alcoholic hepatitis' 'GERD' 'Gastroenteritis' 'Peptic ulcer diseae']\n"
          ]
        }
      ]
    },
    {
      "cell_type": "code",
      "source": [
        "#Respiratory\n",
        "data10 = data.copy()\n",
        "#Selecting the desired rows\n",
        "data10 = data10[data10['prognosis'].str.contains('Bronchial Asthma') | data10['prognosis'].str.contains('Common Cold') | data10['prognosis'].str.contains('Pneumonia')]"
      ],
      "metadata": {
        "id": "ZbtxsEGqnv90"
      },
      "execution_count": 59,
      "outputs": []
    },
    {
      "cell_type": "code",
      "source": [
        "#Checking the target hierarchy\n",
        "count = data10['prognosis'].unique()\n",
        "print(count)\n",
        "\n",
        "#Checking the number of target hierarchy\n",
        "for i in range(len(count)):\n",
        "  print(count[i])\n",
        "print(i)"
      ],
      "metadata": {
        "id": "xpFI4Q3gu5Y1",
        "colab": {
          "base_uri": "https://localhost:8080/"
        },
        "outputId": "9c2ef4c2-1489-4008-aa3b-200be8f57c8a"
      },
      "execution_count": 60,
      "outputs": [
        {
          "output_type": "stream",
          "name": "stdout",
          "text": [
            "['Bronchial Asthma' 'Common Cold' 'Pneumonia']\n",
            "Bronchial Asthma\n",
            "Common Cold\n",
            "Pneumonia\n",
            "2\n"
          ]
        }
      ]
    },
    {
      "cell_type": "code",
      "source": [
        "# split data into training and testing sets for data10- Degenerate\n",
        "X_train, X_test, y_train, y_test = train_test_split(data10.drop('prognosis', axis=1), data10['prognosis'], test_size=0.2, random_state=42)\n",
        "\n",
        "# create Random Forest classifier object\n",
        "rfc_respiratory = RandomForestClassifier(n_estimators=100, random_state=42)\n",
        "\n",
        "# train the classifier\n",
        "rfc_respiratory.fit(X_train, y_train)\n",
        "\n",
        "# make predictions on the testing set\n",
        "y_pred = rfc_respiratory.predict(X_test)\n",
        "\n",
        "# evaluate the performance of the classifier\n",
        "accuracy = accuracy_score(y_test, y_pred)\n",
        "print(\"Accuracy: \", accuracy)\n"
      ],
      "metadata": {
        "id": "mpR7CY172wRS",
        "colab": {
          "base_uri": "https://localhost:8080/"
        },
        "outputId": "d556bcb1-4622-4982-c4f3-a8c58a379753"
      },
      "execution_count": 61,
      "outputs": [
        {
          "output_type": "stream",
          "name": "stdout",
          "text": [
            "Accuracy:  1.0\n"
          ]
        }
      ]
    },
    {
      "cell_type": "code",
      "source": [
        "print(np.unique(y_pred))"
      ],
      "metadata": {
        "colab": {
          "base_uri": "https://localhost:8080/"
        },
        "id": "2t2R_6U8RSzK",
        "outputId": "e0da0a4c-19af-4864-bd94-b8075930c942"
      },
      "execution_count": 62,
      "outputs": [
        {
          "output_type": "stream",
          "name": "stdout",
          "text": [
            "['Bronchial Asthma' 'Common Cold' 'Pneumonia']\n"
          ]
        }
      ]
    },
    {
      "cell_type": "code",
      "source": [
        "#Cardiovascular\n",
        "data11 = data.copy()\n",
        "#Selecting the desired rows\n",
        "data11 = data11[data11['prognosis'].str.contains('Heart attack') | data11['prognosis'].str.contains('Hypertension') | data11['prognosis'].str.contains('Varicose veins')]"
      ],
      "metadata": {
        "id": "qTpPS2wanxJ1"
      },
      "execution_count": 63,
      "outputs": []
    },
    {
      "cell_type": "code",
      "source": [
        "#Checking the target hierarchy\n",
        "count = data11['prognosis'].unique()\n",
        "print(count)\n",
        "\n",
        "#Checking the number of target hierarchy\n",
        "for i in range(len(count)):\n",
        "  print(count[i])\n",
        "print(i)"
      ],
      "metadata": {
        "id": "5kP1Sjw5vErC",
        "colab": {
          "base_uri": "https://localhost:8080/"
        },
        "outputId": "a354588c-ed51-45cc-91f0-7c18a7b6d4dc"
      },
      "execution_count": 64,
      "outputs": [
        {
          "output_type": "stream",
          "name": "stdout",
          "text": [
            "['Heart attack' 'Hypertension ' 'Varicose veins']\n",
            "Heart attack\n",
            "Hypertension \n",
            "Varicose veins\n",
            "2\n"
          ]
        }
      ]
    },
    {
      "cell_type": "code",
      "source": [
        "# split data into training and testing sets for data11- Degenerate\n",
        "X_train, X_test, y_train, y_test = train_test_split(data11.drop('prognosis', axis=1), data11['prognosis'], test_size=0.2, random_state=42)\n",
        "\n",
        "# create Random Forest classifier object\n",
        "rfc_cardiovascular = RandomForestClassifier(n_estimators=100, random_state=42)\n",
        "\n",
        "# train the classifier\n",
        "rfc_cardiovascular.fit(X_train, y_train)\n",
        "\n",
        "# make predictions on the testing set\n",
        "y_pred = rfc_cardiovascular.predict(X_test)\n",
        "\n",
        "# evaluate the performance of the classifier\n",
        "accuracy = accuracy_score(y_test, y_pred)\n",
        "print(\"Accuracy: \", accuracy)\n"
      ],
      "metadata": {
        "id": "yy5PSn5627AJ",
        "colab": {
          "base_uri": "https://localhost:8080/"
        },
        "outputId": "2567dfdb-5a99-4e0f-8c7d-41514c940c9f"
      },
      "execution_count": 65,
      "outputs": [
        {
          "output_type": "stream",
          "name": "stdout",
          "text": [
            "Accuracy:  1.0\n"
          ]
        }
      ]
    },
    {
      "cell_type": "code",
      "source": [
        "print(np.unique(y_pred))"
      ],
      "metadata": {
        "colab": {
          "base_uri": "https://localhost:8080/"
        },
        "id": "ysCm1LTSRYXK",
        "outputId": "277c900e-aa7e-46c6-e5e8-bbbcd9e1543f"
      },
      "execution_count": 66,
      "outputs": [
        {
          "output_type": "stream",
          "name": "stdout",
          "text": [
            "['Heart attack' 'Hypertension ' 'Varicose veins']\n"
          ]
        }
      ]
    },
    {
      "cell_type": "code",
      "source": [
        "\"\"\n",
        "#Endocrine\n",
        "data12 = data.copy()\n",
        "#Selecting the desired rows\n",
        "data12 = data12[data12['prognosis'].str.contains('Hyperthyroidism') | data12['prognosis'].str.contains('Hypothyroidism')]"
      ],
      "metadata": {
        "id": "d7qBXUDOnx1f"
      },
      "execution_count": 67,
      "outputs": []
    },
    {
      "cell_type": "code",
      "source": [
        "#Checking the target hierarchy\n",
        "count = data12['prognosis'].unique()\n",
        "print(count)\n",
        "\n",
        "#Checking the number of target hierarchy\n",
        "for i in range(len(count)):\n",
        "  print(count[i])\n",
        "print(i)"
      ],
      "metadata": {
        "id": "J0bh5fA1vIxp",
        "colab": {
          "base_uri": "https://localhost:8080/"
        },
        "outputId": "8ec7b3a4-7fee-4979-e5d0-1be7fa48da47"
      },
      "execution_count": 68,
      "outputs": [
        {
          "output_type": "stream",
          "name": "stdout",
          "text": [
            "['Hyperthyroidism' 'Hypothyroidism']\n",
            "Hyperthyroidism\n",
            "Hypothyroidism\n",
            "1\n"
          ]
        }
      ]
    },
    {
      "cell_type": "code",
      "source": [
        "# split data into training and testing sets for data12- Degenerate\n",
        "\n",
        "X_train, X_test, y_train, y_test = train_test_split(data12.drop('prognosis', axis=1), data12['prognosis'], test_size=0.2, random_state=42)\n",
        "\n",
        "# create Random Forest classifier object\n",
        "rfc_endocrine = RandomForestClassifier(n_estimators=100, random_state=42)\n",
        "\n",
        "# train the classifier\n",
        "rfc_endocrine.fit(X_train, y_train)\n",
        "\n",
        "# make predictions on the testing set\n",
        "y_pred = rfc_endocrine.predict(X_test)\n",
        "\n",
        "# evaluate the performance of the classifier\n",
        "accuracy = accuracy_score(y_test, y_pred)\n",
        "print(\"Accuracy: \", accuracy)\n"
      ],
      "metadata": {
        "id": "cnzivVZE3KQL",
        "colab": {
          "base_uri": "https://localhost:8080/"
        },
        "outputId": "91ab00c7-1a84-43b3-e892-1ae99c3e297e"
      },
      "execution_count": 69,
      "outputs": [
        {
          "output_type": "stream",
          "name": "stdout",
          "text": [
            "Accuracy:  1.0\n"
          ]
        }
      ]
    },
    {
      "cell_type": "code",
      "source": [
        "print(np.unique(y_pred))"
      ],
      "metadata": {
        "colab": {
          "base_uri": "https://localhost:8080/"
        },
        "id": "nTC8nA2pRg63",
        "outputId": "7eae662d-1d2d-45e2-9c80-0400ad726aaf"
      },
      "execution_count": 70,
      "outputs": [
        {
          "output_type": "stream",
          "name": "stdout",
          "text": [
            "['Hyperthyroidism' 'Hypothyroidism']\n"
          ]
        }
      ]
    },
    {
      "cell_type": "code",
      "source": [
        "#Integumentary\n",
        "data13 = data.copy()\n",
        "#Selecting the desired rows\n",
        "data13 = data13[data13['prognosis'].str.contains('Acne') | data13['prognosis'].str.contains('Impetigo') | data13['prognosis'].str.contains('Jaundice') | data13['prognosis'].str.contains('Psoriasis')]"
      ],
      "metadata": {
        "id": "QDVJkCGjnyxR"
      },
      "execution_count": 71,
      "outputs": []
    },
    {
      "cell_type": "code",
      "source": [
        "#Checking the target hierarchy\n",
        "count = data13['prognosis'].unique()\n",
        "print(count)\n",
        "\n",
        "#Checking the number of target hierarchy\n",
        "for i in range(len(count)):\n",
        "  print(count[i])\n",
        "print(i)"
      ],
      "metadata": {
        "id": "KwPYRqU1vLkO",
        "colab": {
          "base_uri": "https://localhost:8080/"
        },
        "outputId": "8c65431f-cea7-47de-f5a2-9468159350a6"
      },
      "execution_count": 72,
      "outputs": [
        {
          "output_type": "stream",
          "name": "stdout",
          "text": [
            "['Acne' 'Impetigo' 'Jaundice' 'Psoriasis']\n",
            "Acne\n",
            "Impetigo\n",
            "Jaundice\n",
            "Psoriasis\n",
            "3\n"
          ]
        }
      ]
    },
    {
      "cell_type": "code",
      "source": [
        "\n",
        "# split data into training and testing sets for data13- Degenerate\n",
        "\n",
        "X_train, X_test, y_train, y_test = train_test_split(data13.drop('prognosis', axis=1), data13['prognosis'], test_size=0.2, random_state=42)\n",
        "\n",
        "# create Random Forest classifier object\n",
        "rfc_integumentary = RandomForestClassifier(n_estimators=100, random_state=42)\n",
        "\n",
        "# train the classifier\n",
        "rfc_integumentary.fit(X_train, y_train)\n",
        "\n",
        "# make predictions on the testing set\n",
        "y_pred = rfc_integumentary.predict(X_test)\n",
        "\n",
        "# evaluate the performance of the classifier\n",
        "accuracy = accuracy_score(y_test, y_pred)\n",
        "print(\"Accuracy: \", accuracy)\n"
      ],
      "metadata": {
        "id": "2aR2GK5E5PMU",
        "colab": {
          "base_uri": "https://localhost:8080/"
        },
        "outputId": "b124638f-a1a5-4bc3-ae61-609b39460ff3"
      },
      "execution_count": 73,
      "outputs": [
        {
          "output_type": "stream",
          "name": "stdout",
          "text": [
            "Accuracy:  1.0\n"
          ]
        }
      ]
    },
    {
      "cell_type": "code",
      "source": [
        "print(np.unique(y_pred))"
      ],
      "metadata": {
        "colab": {
          "base_uri": "https://localhost:8080/"
        },
        "id": "jZZiAubiRouT",
        "outputId": "e11aeff8-9b5b-476a-bcc2-37923bbc11f7"
      },
      "execution_count": 74,
      "outputs": [
        {
          "output_type": "stream",
          "name": "stdout",
          "text": [
            "['Acne' 'Impetigo' 'Jaundice' 'Psoriasis']\n"
          ]
        }
      ]
    },
    {
      "cell_type": "code",
      "source": [
        "#Nervous\n",
        "data14 = data.copy()\n",
        "#Selecting the desired rows\n",
        "data14 = data14[data14['prognosis'].str.contains('Paroymsal  Positional Vertigo') | data14['prognosis'].str.contains('Migraine') ]"
      ],
      "metadata": {
        "id": "5DmKF-uTnzjH"
      },
      "execution_count": 75,
      "outputs": []
    },
    {
      "cell_type": "code",
      "source": [
        "#Checking the target hierarchy\n",
        "count = data14['prognosis'].unique()\n",
        "print(count)\n",
        "\n",
        "#Checking the number of target hierarchy\n",
        "for i in range(len(count)):\n",
        "  print(count[i])\n",
        "print(i)"
      ],
      "metadata": {
        "id": "2CNOHMAbvN8c",
        "colab": {
          "base_uri": "https://localhost:8080/"
        },
        "outputId": "953a673f-a723-472f-f64f-4ecc48cea50d"
      },
      "execution_count": 76,
      "outputs": [
        {
          "output_type": "stream",
          "name": "stdout",
          "text": [
            "['(vertigo) Paroymsal  Positional Vertigo' 'Migraine']\n",
            "(vertigo) Paroymsal  Positional Vertigo\n",
            "Migraine\n",
            "1\n"
          ]
        }
      ]
    },
    {
      "cell_type": "code",
      "source": [
        "# split data into training and testing sets for data14- Degenerate\n",
        "X_train, X_test, y_train, y_test = train_test_split(data14.drop('prognosis', axis=1), data14['prognosis'], test_size=0.2, random_state=42)\n",
        "\n",
        "# create Random Forest classifier object\n",
        "rfc_nervous = RandomForestClassifier(n_estimators=100, random_state=42)\n",
        "\n",
        "# train the classifier\n",
        "rfc_nervous.fit(X_train, y_train)\n",
        "\n",
        "# make predictions on the testing set\n",
        "y_pred = rfc_nervous.predict(X_test)\n",
        "\n",
        "# evaluate the performance of the classifier\n",
        "accuracy = accuracy_score(y_test, y_pred)\n",
        "print(\"Accuracy: \", accuracy)\n"
      ],
      "metadata": {
        "id": "GyUx0Wg55YzZ",
        "colab": {
          "base_uri": "https://localhost:8080/"
        },
        "outputId": "36df1006-61c3-47a4-cfa4-aa1969edf8c4"
      },
      "execution_count": 77,
      "outputs": [
        {
          "output_type": "stream",
          "name": "stdout",
          "text": [
            "Accuracy:  1.0\n"
          ]
        }
      ]
    },
    {
      "cell_type": "code",
      "source": [
        "print(np.unique(y_pred))"
      ],
      "metadata": {
        "colab": {
          "base_uri": "https://localhost:8080/"
        },
        "id": "chnZL7UiRuSj",
        "outputId": "0a80b75f-4829-430a-c9f6-98ecd3da1c96"
      },
      "execution_count": 78,
      "outputs": [
        {
          "output_type": "stream",
          "name": "stdout",
          "text": [
            "['(vertigo) Paroymsal  Positional Vertigo' 'Migraine']\n"
          ]
        }
      ]
    },
    {
      "cell_type": "code",
      "source": [
        "#Allergy\n",
        "data15 = data.copy()\n",
        "#Selecting the desired rows\n",
        "data15 = data15[data15['prognosis'].str.contains('Allergy') | data15['prognosis'].str.contains('Drug Reaction') ]"
      ],
      "metadata": {
        "id": "ZxsBVaGSn0Fe"
      },
      "execution_count": 79,
      "outputs": []
    },
    {
      "cell_type": "code",
      "source": [
        "#Checking the target hierarchy\n",
        "count = data15['prognosis'].unique()\n",
        "print(count)\n",
        "\n",
        "#Checking the number of target hierarchy\n",
        "for i in range(len(count)):\n",
        "  print(count[i])\n",
        "print(i)"
      ],
      "metadata": {
        "id": "15vEmSlovQvK",
        "colab": {
          "base_uri": "https://localhost:8080/"
        },
        "outputId": "0d247997-608f-4b8d-c04f-f5b6481ba4c6"
      },
      "execution_count": 80,
      "outputs": [
        {
          "output_type": "stream",
          "name": "stdout",
          "text": [
            "['Allergy' 'Drug Reaction']\n",
            "Allergy\n",
            "Drug Reaction\n",
            "1\n"
          ]
        }
      ]
    },
    {
      "cell_type": "code",
      "source": [
        "# split data into training and testing sets for data15- Degenerate\n",
        "X_train, X_test, y_train, y_test = train_test_split(data15.drop('prognosis', axis=1), data15['prognosis'], test_size=0.2, random_state=42)\n",
        "\n",
        "# create Random Forest classifier object\n",
        "rfc_allergy = RandomForestClassifier(n_estimators=100, random_state=42)\n",
        "\n",
        "# train the classifier\n",
        "rfc_allergy.fit(X_train, y_train)\n",
        "\n",
        "# make predictions on the testing set\n",
        "y_pred = rfc_allergy.predict(X_test)\n",
        "\n",
        "# evaluate the performance of the classifier\n",
        "accuracy = accuracy_score(y_test, y_pred)\n",
        "print(\"Accuracy: \", accuracy)\n"
      ],
      "metadata": {
        "id": "Dx-2E2lR5i01",
        "colab": {
          "base_uri": "https://localhost:8080/"
        },
        "outputId": "c6af6698-d66a-49b1-f666-072c2b582dd3"
      },
      "execution_count": 81,
      "outputs": [
        {
          "output_type": "stream",
          "name": "stdout",
          "text": [
            "Accuracy:  1.0\n"
          ]
        }
      ]
    },
    {
      "cell_type": "code",
      "source": [
        "print(np.unique(y_pred))"
      ],
      "metadata": {
        "colab": {
          "base_uri": "https://localhost:8080/"
        },
        "id": "1vIF4GCtR7Dl",
        "outputId": "234f39fe-4062-4daa-9ebf-8c6f768e99b8"
      },
      "execution_count": 82,
      "outputs": [
        {
          "output_type": "stream",
          "name": "stdout",
          "text": [
            "['Allergy' 'Drug Reaction']\n"
          ]
        }
      ]
    },
    {
      "cell_type": "code",
      "source": [
        "#Musculoskeletal \n",
        "data16 = data.copy()\n",
        "#Selecting the desired rows\n",
        "data16 = data16[data16['prognosis'].str.contains('Arthritis') | data16['prognosis'].str.contains('Cervical spondylosis') | data16['prognosis'].str.contains('Osteoarthristis') ]"
      ],
      "metadata": {
        "id": "h_2DZHQun03O"
      },
      "execution_count": 83,
      "outputs": []
    },
    {
      "cell_type": "code",
      "source": [
        "#Checking the target hierarchy\n",
        "count = data16['prognosis'].unique()\n",
        "print(count)\n",
        "\n",
        "#Checking the number of target hierarchy\n",
        "for i in range(len(count)):\n",
        "  print(count[i])\n",
        "print(i)"
      ],
      "metadata": {
        "id": "BpBThXRxvUF8",
        "colab": {
          "base_uri": "https://localhost:8080/"
        },
        "outputId": "f444536c-d116-4c8d-d3a8-6db5bf7d1278"
      },
      "execution_count": 84,
      "outputs": [
        {
          "output_type": "stream",
          "name": "stdout",
          "text": [
            "['Arthritis' 'Cervical spondylosis' 'Osteoarthristis']\n",
            "Arthritis\n",
            "Cervical spondylosis\n",
            "Osteoarthristis\n",
            "2\n"
          ]
        }
      ]
    },
    {
      "cell_type": "code",
      "source": [
        "# split data into training and testing sets for data12- Degenerate\n",
        "X_train, X_test, y_train, y_test = train_test_split(data16.drop('prognosis', axis=1), data16['prognosis'], test_size=0.2, random_state=42)\n",
        "\n",
        "# create Random Forest classifier object\n",
        "rfc_musculoskeletal = RandomForestClassifier(n_estimators=100, random_state=42)\n",
        "\n",
        "# train the classifier\n",
        "rfc_musculoskeletal.fit(X_train, y_train)\n",
        "\n",
        "# make predictions on the testing set\n",
        "y_pred = rfc_musculoskeletal.predict(X_test)\n",
        "\n",
        "# evaluate the performance of the classifier\n",
        "accuracy = accuracy_score(y_test, y_pred)\n",
        "print(\"Accuracy: \", accuracy)\n"
      ],
      "metadata": {
        "id": "0xdR-MyY5q1j",
        "colab": {
          "base_uri": "https://localhost:8080/"
        },
        "outputId": "30d6971a-6ca6-4224-bf19-7dad08c5ca5a"
      },
      "execution_count": 85,
      "outputs": [
        {
          "output_type": "stream",
          "name": "stdout",
          "text": [
            "Accuracy:  1.0\n"
          ]
        }
      ]
    },
    {
      "cell_type": "code",
      "source": [
        "print(np.unique(y_pred))"
      ],
      "metadata": {
        "colab": {
          "base_uri": "https://localhost:8080/"
        },
        "id": "TrOxRlv6SMEa",
        "outputId": "9601703a-bb17-4b43-9acc-c5f153c62656"
      },
      "execution_count": 86,
      "outputs": [
        {
          "output_type": "stream",
          "name": "stdout",
          "text": [
            "['Arthritis' 'Cervical spondylosis' 'Osteoarthristis']\n"
          ]
        }
      ]
    },
    {
      "cell_type": "markdown",
      "source": [
        "For genetic sub class"
      ],
      "metadata": {
        "id": "WF_Z6TILrIce"
      }
    },
    {
      "cell_type": "code",
      "source": [
        "#Inherited\n",
        "data17 = data.copy()\n",
        "data17 = data17[data17['prognosis'].str.contains('Diabetes') | data17['prognosis'].str.contains('Hypoglycemia')]"
      ],
      "metadata": {
        "id": "iNfaa-vurN_W"
      },
      "execution_count": 87,
      "outputs": []
    },
    {
      "cell_type": "code",
      "source": [
        "#Checking the target hierarchy\n",
        "count = data17['prognosis'].unique()\n",
        "print(count)\n",
        "\n",
        "#Checking the number of target hierarchy\n",
        "for i in range(len(count)):\n",
        "  print(count[i])\n",
        "print(i)"
      ],
      "metadata": {
        "id": "IiXjlOaGoVE7",
        "colab": {
          "base_uri": "https://localhost:8080/"
        },
        "outputId": "58875cd6-eb3a-4727-bba1-1f16651b7e44"
      },
      "execution_count": 88,
      "outputs": [
        {
          "output_type": "stream",
          "name": "stdout",
          "text": [
            "['Diabetes ' 'Hypoglycemia']\n",
            "Diabetes \n",
            "Hypoglycemia\n",
            "1\n"
          ]
        }
      ]
    },
    {
      "cell_type": "code",
      "source": [
        "# split data into training and testing sets for data17- Genetic\n",
        "X_train, X_test, y_train, y_test = train_test_split(data17.drop('prognosis', axis=1), data17['prognosis'], test_size=0.2, random_state=42)\n",
        "\n",
        "# create Random Forest classifier object\n",
        "rfc_inherited = RandomForestClassifier(n_estimators=100, random_state=42)\n",
        "\n",
        "# train the classifier\n",
        "rfc_inherited.fit(X_train, y_train)\n",
        "\n",
        "# make predictions on the testing set\n",
        "y_pred = rfc_inherited.predict(X_test)\n",
        "\n",
        "# evaluate the performance of the classifier\n",
        "accuracy = accuracy_score(y_test, y_pred)\n",
        "print(\"Accuracy: \", accuracy)\n"
      ],
      "metadata": {
        "id": "ZJIe0OdH5zME",
        "colab": {
          "base_uri": "https://localhost:8080/"
        },
        "outputId": "1c8f7d7f-8010-416e-8bce-a9018fee8061"
      },
      "execution_count": 95,
      "outputs": [
        {
          "output_type": "stream",
          "name": "stdout",
          "text": [
            "Accuracy:  1.0\n"
          ]
        }
      ]
    },
    {
      "cell_type": "markdown",
      "source": [
        "# Prediction Part Begins Here"
      ],
      "metadata": {
        "id": "aroVKPClX78m"
      }
    },
    {
      "cell_type": "code",
      "source": [
        "input = data.iloc[1200, 0:132]\n",
        "print(input)"
      ],
      "metadata": {
        "colab": {
          "base_uri": "https://localhost:8080/"
        },
        "id": "sJ_IbdR4V1Su",
        "outputId": "ccd3613d-435a-45ff-b7b7-963390de7174"
      },
      "execution_count": 96,
      "outputs": [
        {
          "output_type": "stream",
          "name": "stdout",
          "text": [
            "itching                 0\n",
            "skin_rash               1\n",
            "nodal_skin_eruptions    0\n",
            "continuous_sneezing     0\n",
            "shivering               0\n",
            "                       ..\n",
            "small_dents_in_nails    0\n",
            "inflammatory_nails      0\n",
            "blister                 0\n",
            "red_sore_around_nose    0\n",
            "yellow_crust_ooze       0\n",
            "Name: 1320, Length: 132, dtype: object\n"
          ]
        }
      ]
    },
    {
      "cell_type": "code",
      "source": [
        "input =np.array(input).reshape(1,-1)"
      ],
      "metadata": {
        "id": "eGReTdbTbKZy"
      },
      "execution_count": 97,
      "outputs": []
    },
    {
      "cell_type": "code",
      "source": [
        "y_pred = rfc_disease.predict(input)"
      ],
      "metadata": {
        "colab": {
          "base_uri": "https://localhost:8080/"
        },
        "id": "E24nkR-1a4ZX",
        "outputId": "5377474f-c46e-419c-fbd6-78f9adee769c"
      },
      "execution_count": 98,
      "outputs": [
        {
          "output_type": "stream",
          "name": "stderr",
          "text": [
            "/usr/local/lib/python3.8/dist-packages/sklearn/base.py:450: UserWarning: X does not have valid feature names, but RandomForestClassifier was fitted with feature names\n",
            "  warnings.warn(\n"
          ]
        }
      ]
    },
    {
      "cell_type": "code",
      "source": [
        "print(y_pred)"
      ],
      "metadata": {
        "colab": {
          "base_uri": "https://localhost:8080/"
        },
        "id": "uvtM5z3kbpPl",
        "outputId": "41e042f8-ae8e-46ee-c99f-d1e80dd17019"
      },
      "execution_count": 99,
      "outputs": [
        {
          "output_type": "stream",
          "name": "stdout",
          "text": [
            "['Immunological']\n"
          ]
        }
      ]
    },
    {
      "cell_type": "code",
      "source": [
        "Output_disease = rfc_disease.predict(input)\n",
        "if Output_disease == 'Immunological':\n",
        "   Output_immunological = rfc_immunological.predict(input)\n",
        "   if Output_immunological == 'Viral':\n",
        "     Output = rfc_viral.predict(input)\n",
        "     print('{}--->{}--->{}'.format(Output_disease, Output_immunological, Output))\n",
        "   elif Output_immunological == 'Bacterial':\n",
        "      Output = rfc_bacterial.predict(input)\n",
        "      print('{}--->{}--->{}'.format(Output_disease, Output_immunological, Output))\n",
        "   elif Output_immunological == 'Fungal':\n",
        "     Output = rfc_fungal.predict(input)\n",
        "     print('{}--->{}--->{}'.format(Output_disease, Output_immunological, Output))\n",
        "   else:\n",
        "     Output = rfc_parasitic.predict(input)\n",
        "     print('{}--->{}--->{}'.format(Output_disease, Output_immunological, Output))\n",
        "elif Output_disease == 'Genetic':\n",
        "  Output_genetic = rfc_genetic.predict(input)\n",
        "  if Output_genetic == 'Inherited':\n",
        "     Output = rfc_inherited.predict(input)\n",
        "     print('{}--->{}--->{}'.format(Output_disease, Output_genetic, Output))   \n",
        "else:\n",
        "   Output_degenerate = rfc_degenerate.predict(input)\n",
        "   if Output_degenerate == 'Gastrointestinal':\n",
        "     Output = rfc_gastrointestinal.predict(input)\n",
        "     print('{}--->{}--->{}'.format(Output_disease, Output_degenerate, Output))\n",
        "   elif Output_degenerate == 'Cardiovascular':\n",
        "      Output = rfc_cardiovascular.predict(input)\n",
        "      print('{}--->{}--->{}'.format(Output_disease, Output_degenerate, Output))\n",
        "   elif Output_degenerate == 'Nervous':\n",
        "     Output = rfc_nervous.predict(input)\n",
        "     print('{}--->{}--->{}'.format(Output_disease, Output_degenerate, Output))\n",
        "   elif Output_degenerate == 'Allergy':\n",
        "     Output = rfc_allergy.predict(input)\n",
        "     print('{}--->{}--->{}'.format(Output_disease, Output_degenerate, Output))\n",
        "   elif Output_degenerate == 'Musculoskeletal':\n",
        "      Output = rfc_musculoskeletal.predict(input)\n",
        "      print('{}--->{}--->{}'.format(Output_disease, Output_degenerate, Output))\n",
        "   elif Output_degenerate == 'Integumentary':\n",
        "     Output = rfc_integumentary.predict(input)\n",
        "     print('{}--->{}--->{}'.format(Output_disease, Output_degenerate, Output))\n",
        "   elif Output_degenerate == 'Endocrine':\n",
        "     Output = rfc_endocrine.predict(input)\n",
        "     print('{}--->{}--->{}'.format(Output_disease, Output_degenerate, Output))\n",
        "   else:\n",
        "    Output = rfc_respiratory.predict(input)\n",
        "    print('{}--->{}--->{}'.format(Output_disease, Output_degenerate, Output))"
      ],
      "metadata": {
        "colab": {
          "base_uri": "https://localhost:8080/"
        },
        "id": "MXu_B83-V8oZ",
        "outputId": "11050da7-fd27-494d-8fa3-63eedb41e797"
      },
      "execution_count": 100,
      "outputs": [
        {
          "output_type": "stream",
          "name": "stdout",
          "text": [
            "['Immunological']--->['Viral']--->['Dengue']\n"
          ]
        },
        {
          "output_type": "stream",
          "name": "stderr",
          "text": [
            "/usr/local/lib/python3.8/dist-packages/sklearn/base.py:450: UserWarning: X does not have valid feature names, but RandomForestClassifier was fitted with feature names\n",
            "  warnings.warn(\n",
            "/usr/local/lib/python3.8/dist-packages/sklearn/base.py:450: UserWarning: X does not have valid feature names, but RandomForestClassifier was fitted with feature names\n",
            "  warnings.warn(\n",
            "/usr/local/lib/python3.8/dist-packages/sklearn/base.py:450: UserWarning: X does not have valid feature names, but RandomForestClassifier was fitted with feature names\n",
            "  warnings.warn(\n"
          ]
        }
      ]
    }
  ]
}